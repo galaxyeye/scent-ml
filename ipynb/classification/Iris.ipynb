{
 "cells": [
  {
   "cell_type": "code",
   "execution_count": 2,
   "metadata": {
    "collapsed": true,
    "ExecuteTime": {
     "end_time": "2023-11-10T14:23:37.327968900Z",
     "start_time": "2023-11-10T14:23:35.682821200Z"
    }
   },
   "outputs": [],
   "source": [
    "import numpy as np\n",
    "import pandas as pd\n",
    "\n",
    "import torch\n",
    "import torch.nn as nn\n",
    "import torch.nn.functional as F\n",
    "import matplotlib.pyplot as plt"
   ]
  },
  {
   "cell_type": "code",
   "execution_count": 3,
   "outputs": [],
   "source": [
    "import random\n",
    "random.seed(5)"
   ],
   "metadata": {
    "collapsed": false,
    "ExecuteTime": {
     "end_time": "2023-11-10T14:23:40.734963Z",
     "start_time": "2023-11-10T14:23:40.732018500Z"
    }
   }
  },
  {
   "cell_type": "code",
   "execution_count": 4,
   "outputs": [],
   "source": [
    "from sklearn.datasets import load_iris\n",
    "import numpy as np\n",
    "\n",
    "iris = load_iris()\n",
    "X = iris.data\n",
    "Y = iris.target"
   ],
   "metadata": {
    "collapsed": false,
    "ExecuteTime": {
     "end_time": "2023-11-10T14:23:42.369102Z",
     "start_time": "2023-11-10T14:23:42.041949200Z"
    }
   }
  },
  {
   "cell_type": "code",
   "execution_count": 10,
   "outputs": [
    {
     "data": {
      "text/plain": "array([[5.1, 3.5, 1.4, 0.2],\n       [4.9, 3. , 1.4, 0.2],\n       [4.7, 3.2, 1.3, 0.2],\n       [4.6, 3.1, 1.5, 0.2],\n       [5. , 3.6, 1.4, 0.2],\n       [5.4, 3.9, 1.7, 0.4],\n       [4.6, 3.4, 1.4, 0.3],\n       [5. , 3.4, 1.5, 0.2],\n       [4.4, 2.9, 1.4, 0.2],\n       [4.9, 3.1, 1.5, 0.1],\n       [5.4, 3.7, 1.5, 0.2],\n       [4.8, 3.4, 1.6, 0.2],\n       [4.8, 3. , 1.4, 0.1],\n       [4.3, 3. , 1.1, 0.1],\n       [5.8, 4. , 1.2, 0.2],\n       [5.7, 4.4, 1.5, 0.4],\n       [5.4, 3.9, 1.3, 0.4],\n       [5.1, 3.5, 1.4, 0.3],\n       [5.7, 3.8, 1.7, 0.3],\n       [5.1, 3.8, 1.5, 0.3],\n       [5.4, 3.4, 1.7, 0.2],\n       [5.1, 3.7, 1.5, 0.4],\n       [4.6, 3.6, 1. , 0.2],\n       [5.1, 3.3, 1.7, 0.5],\n       [4.8, 3.4, 1.9, 0.2],\n       [5. , 3. , 1.6, 0.2],\n       [5. , 3.4, 1.6, 0.4],\n       [5.2, 3.5, 1.5, 0.2],\n       [5.2, 3.4, 1.4, 0.2],\n       [4.7, 3.2, 1.6, 0.2],\n       [4.8, 3.1, 1.6, 0.2],\n       [5.4, 3.4, 1.5, 0.4],\n       [5.2, 4.1, 1.5, 0.1],\n       [5.5, 4.2, 1.4, 0.2],\n       [4.9, 3.1, 1.5, 0.2],\n       [5. , 3.2, 1.2, 0.2],\n       [5.5, 3.5, 1.3, 0.2],\n       [4.9, 3.6, 1.4, 0.1],\n       [4.4, 3. , 1.3, 0.2],\n       [5.1, 3.4, 1.5, 0.2],\n       [5. , 3.5, 1.3, 0.3],\n       [4.5, 2.3, 1.3, 0.3],\n       [4.4, 3.2, 1.3, 0.2],\n       [5. , 3.5, 1.6, 0.6],\n       [5.1, 3.8, 1.9, 0.4],\n       [4.8, 3. , 1.4, 0.3],\n       [5.1, 3.8, 1.6, 0.2],\n       [4.6, 3.2, 1.4, 0.2],\n       [5.3, 3.7, 1.5, 0.2],\n       [5. , 3.3, 1.4, 0.2],\n       [7. , 3.2, 4.7, 1.4],\n       [6.4, 3.2, 4.5, 1.5],\n       [6.9, 3.1, 4.9, 1.5],\n       [5.5, 2.3, 4. , 1.3],\n       [6.5, 2.8, 4.6, 1.5],\n       [5.7, 2.8, 4.5, 1.3],\n       [6.3, 3.3, 4.7, 1.6],\n       [4.9, 2.4, 3.3, 1. ],\n       [6.6, 2.9, 4.6, 1.3],\n       [5.2, 2.7, 3.9, 1.4],\n       [5. , 2. , 3.5, 1. ],\n       [5.9, 3. , 4.2, 1.5],\n       [6. , 2.2, 4. , 1. ],\n       [6.1, 2.9, 4.7, 1.4],\n       [5.6, 2.9, 3.6, 1.3],\n       [6.7, 3.1, 4.4, 1.4],\n       [5.6, 3. , 4.5, 1.5],\n       [5.8, 2.7, 4.1, 1. ],\n       [6.2, 2.2, 4.5, 1.5],\n       [5.6, 2.5, 3.9, 1.1],\n       [5.9, 3.2, 4.8, 1.8],\n       [6.1, 2.8, 4. , 1.3],\n       [6.3, 2.5, 4.9, 1.5],\n       [6.1, 2.8, 4.7, 1.2],\n       [6.4, 2.9, 4.3, 1.3],\n       [6.6, 3. , 4.4, 1.4],\n       [6.8, 2.8, 4.8, 1.4],\n       [6.7, 3. , 5. , 1.7],\n       [6. , 2.9, 4.5, 1.5],\n       [5.7, 2.6, 3.5, 1. ],\n       [5.5, 2.4, 3.8, 1.1],\n       [5.5, 2.4, 3.7, 1. ],\n       [5.8, 2.7, 3.9, 1.2],\n       [6. , 2.7, 5.1, 1.6],\n       [5.4, 3. , 4.5, 1.5],\n       [6. , 3.4, 4.5, 1.6],\n       [6.7, 3.1, 4.7, 1.5],\n       [6.3, 2.3, 4.4, 1.3],\n       [5.6, 3. , 4.1, 1.3],\n       [5.5, 2.5, 4. , 1.3],\n       [5.5, 2.6, 4.4, 1.2],\n       [6.1, 3. , 4.6, 1.4],\n       [5.8, 2.6, 4. , 1.2],\n       [5. , 2.3, 3.3, 1. ],\n       [5.6, 2.7, 4.2, 1.3],\n       [5.7, 3. , 4.2, 1.2],\n       [5.7, 2.9, 4.2, 1.3],\n       [6.2, 2.9, 4.3, 1.3],\n       [5.1, 2.5, 3. , 1.1],\n       [5.7, 2.8, 4.1, 1.3],\n       [6.3, 3.3, 6. , 2.5],\n       [5.8, 2.7, 5.1, 1.9],\n       [7.1, 3. , 5.9, 2.1],\n       [6.3, 2.9, 5.6, 1.8],\n       [6.5, 3. , 5.8, 2.2],\n       [7.6, 3. , 6.6, 2.1],\n       [4.9, 2.5, 4.5, 1.7],\n       [7.3, 2.9, 6.3, 1.8],\n       [6.7, 2.5, 5.8, 1.8],\n       [7.2, 3.6, 6.1, 2.5],\n       [6.5, 3.2, 5.1, 2. ],\n       [6.4, 2.7, 5.3, 1.9],\n       [6.8, 3. , 5.5, 2.1],\n       [5.7, 2.5, 5. , 2. ],\n       [5.8, 2.8, 5.1, 2.4],\n       [6.4, 3.2, 5.3, 2.3],\n       [6.5, 3. , 5.5, 1.8],\n       [7.7, 3.8, 6.7, 2.2],\n       [7.7, 2.6, 6.9, 2.3],\n       [6. , 2.2, 5. , 1.5],\n       [6.9, 3.2, 5.7, 2.3],\n       [5.6, 2.8, 4.9, 2. ],\n       [7.7, 2.8, 6.7, 2. ],\n       [6.3, 2.7, 4.9, 1.8],\n       [6.7, 3.3, 5.7, 2.1],\n       [7.2, 3.2, 6. , 1.8],\n       [6.2, 2.8, 4.8, 1.8],\n       [6.1, 3. , 4.9, 1.8],\n       [6.4, 2.8, 5.6, 2.1],\n       [7.2, 3. , 5.8, 1.6],\n       [7.4, 2.8, 6.1, 1.9],\n       [7.9, 3.8, 6.4, 2. ],\n       [6.4, 2.8, 5.6, 2.2],\n       [6.3, 2.8, 5.1, 1.5],\n       [6.1, 2.6, 5.6, 1.4],\n       [7.7, 3. , 6.1, 2.3],\n       [6.3, 3.4, 5.6, 2.4],\n       [6.4, 3.1, 5.5, 1.8],\n       [6. , 3. , 4.8, 1.8],\n       [6.9, 3.1, 5.4, 2.1],\n       [6.7, 3.1, 5.6, 2.4],\n       [6.9, 3.1, 5.1, 2.3],\n       [5.8, 2.7, 5.1, 1.9],\n       [6.8, 3.2, 5.9, 2.3],\n       [6.7, 3.3, 5.7, 2.5],\n       [6.7, 3. , 5.2, 2.3],\n       [6.3, 2.5, 5. , 1.9],\n       [6.5, 3. , 5.2, 2. ],\n       [6.2, 3.4, 5.4, 2.3],\n       [5.9, 3. , 5.1, 1.8]])"
     },
     "execution_count": 10,
     "metadata": {},
     "output_type": "execute_result"
    }
   ],
   "source": [
    "X"
   ],
   "metadata": {
    "collapsed": false,
    "ExecuteTime": {
     "end_time": "2023-11-10T14:25:04.910664500Z",
     "start_time": "2023-11-10T14:25:04.887344300Z"
    }
   }
  },
  {
   "cell_type": "code",
   "execution_count": 5,
   "outputs": [],
   "source": [
    "from sklearn.model_selection import train_test_split\n",
    "x, x_val, y, y_val = train_test_split(X, Y, test_size=0.33, random_state=42)"
   ],
   "metadata": {
    "collapsed": false,
    "ExecuteTime": {
     "end_time": "2023-11-10T14:23:43.810746700Z",
     "start_time": "2023-11-10T14:23:43.783414100Z"
    }
   }
  },
  {
   "cell_type": "code",
   "execution_count": 9,
   "outputs": [
    {
     "data": {
      "text/plain": "array([[5.7, 2.9, 4.2, 1.3],\n       [7.6, 3. , 6.6, 2.1],\n       [5.6, 3. , 4.5, 1.5],\n       [5.1, 3.5, 1.4, 0.2],\n       [7.7, 2.8, 6.7, 2. ],\n       [5.8, 2.7, 4.1, 1. ],\n       [5.2, 3.4, 1.4, 0.2],\n       [5. , 3.5, 1.3, 0.3],\n       [5.1, 3.8, 1.9, 0.4],\n       [5. , 2. , 3.5, 1. ],\n       [6.3, 2.7, 4.9, 1.8],\n       [4.8, 3.4, 1.9, 0.2],\n       [5. , 3. , 1.6, 0.2],\n       [5.1, 3.3, 1.7, 0.5],\n       [5.6, 2.7, 4.2, 1.3],\n       [5.1, 3.4, 1.5, 0.2],\n       [5.7, 3. , 4.2, 1.2],\n       [7.7, 3.8, 6.7, 2.2],\n       [4.6, 3.2, 1.4, 0.2],\n       [6.2, 2.9, 4.3, 1.3],\n       [5.7, 2.5, 5. , 2. ],\n       [5.5, 4.2, 1.4, 0.2],\n       [6. , 3. , 4.8, 1.8],\n       [5.8, 2.7, 5.1, 1.9],\n       [6. , 2.2, 4. , 1. ],\n       [5.4, 3. , 4.5, 1.5],\n       [6.2, 3.4, 5.4, 2.3],\n       [5.5, 2.3, 4. , 1.3],\n       [5.4, 3.9, 1.7, 0.4],\n       [5. , 2.3, 3.3, 1. ],\n       [6.4, 2.7, 5.3, 1.9],\n       [5. , 3.3, 1.4, 0.2],\n       [5. , 3.2, 1.2, 0.2],\n       [5.5, 2.4, 3.8, 1.1],\n       [6.7, 3. , 5. , 1.7],\n       [4.9, 3.1, 1.5, 0.2],\n       [5.8, 2.8, 5.1, 2.4],\n       [5. , 3.4, 1.5, 0.2],\n       [5. , 3.5, 1.6, 0.6],\n       [5.9, 3.2, 4.8, 1.8],\n       [5.1, 2.5, 3. , 1.1],\n       [6.9, 3.2, 5.7, 2.3],\n       [6. , 2.7, 5.1, 1.6],\n       [6.1, 2.6, 5.6, 1.4],\n       [7.7, 3. , 6.1, 2.3],\n       [5.5, 2.5, 4. , 1.3],\n       [4.4, 2.9, 1.4, 0.2],\n       [4.3, 3. , 1.1, 0.1],\n       [6. , 2.2, 5. , 1.5],\n       [7.2, 3.2, 6. , 1.8],\n       [4.6, 3.1, 1.5, 0.2],\n       [5.1, 3.5, 1.4, 0.3],\n       [4.4, 3. , 1.3, 0.2],\n       [6.3, 2.5, 4.9, 1.5],\n       [6.3, 3.4, 5.6, 2.4],\n       [4.6, 3.4, 1.4, 0.3],\n       [6.8, 3. , 5.5, 2.1],\n       [6.3, 3.3, 6. , 2.5],\n       [4.7, 3.2, 1.3, 0.2],\n       [6.1, 2.9, 4.7, 1.4],\n       [6.5, 2.8, 4.6, 1.5],\n       [6.2, 2.8, 4.8, 1.8],\n       [7. , 3.2, 4.7, 1.4],\n       [6.4, 3.2, 5.3, 2.3],\n       [5.1, 3.8, 1.6, 0.2],\n       [6.9, 3.1, 5.4, 2.1],\n       [5.9, 3. , 4.2, 1.5],\n       [6.5, 3. , 5.2, 2. ],\n       [5.7, 2.6, 3.5, 1. ],\n       [5.2, 2.7, 3.9, 1.4],\n       [6.1, 3. , 4.6, 1.4],\n       [4.5, 2.3, 1.3, 0.3],\n       [6.6, 2.9, 4.6, 1.3],\n       [5.5, 2.6, 4.4, 1.2],\n       [5.3, 3.7, 1.5, 0.2],\n       [5.6, 3. , 4.1, 1.3],\n       [7.3, 2.9, 6.3, 1.8],\n       [6.7, 3.3, 5.7, 2.1],\n       [5.1, 3.7, 1.5, 0.4],\n       [4.9, 2.4, 3.3, 1. ],\n       [6.7, 3.3, 5.7, 2.5],\n       [7.2, 3. , 5.8, 1.6],\n       [4.9, 3.6, 1.4, 0.1],\n       [6.7, 3.1, 5.6, 2.4],\n       [4.9, 3. , 1.4, 0.2],\n       [6.9, 3.1, 4.9, 1.5],\n       [7.4, 2.8, 6.1, 1.9],\n       [6.3, 2.9, 5.6, 1.8],\n       [5.7, 2.8, 4.1, 1.3],\n       [6.5, 3. , 5.5, 1.8],\n       [6.3, 2.3, 4.4, 1.3],\n       [6.4, 2.9, 4.3, 1.3],\n       [5.6, 2.8, 4.9, 2. ],\n       [5.9, 3. , 5.1, 1.8],\n       [5.4, 3.4, 1.7, 0.2],\n       [6.1, 2.8, 4. , 1.3],\n       [4.9, 2.5, 4.5, 1.7],\n       [5.8, 4. , 1.2, 0.2],\n       [5.8, 2.6, 4. , 1.2],\n       [7.1, 3. , 5.9, 2.1]])"
     },
     "execution_count": 9,
     "metadata": {},
     "output_type": "execute_result"
    }
   ],
   "source": [
    "x"
   ],
   "metadata": {
    "collapsed": false,
    "ExecuteTime": {
     "end_time": "2023-11-10T14:24:18.964420Z",
     "start_time": "2023-11-10T14:24:18.954625600Z"
    }
   }
  },
  {
   "cell_type": "code",
   "execution_count": 6,
   "outputs": [
    {
     "data": {
      "text/plain": "((100, 4), (100,), (50, 4), (50,))"
     },
     "execution_count": 6,
     "metadata": {},
     "output_type": "execute_result"
    }
   ],
   "source": [
    "x.shape, y.shape, x_val.shape, y_val.shape"
   ],
   "metadata": {
    "collapsed": false,
    "ExecuteTime": {
     "end_time": "2023-11-10T14:23:44.867283500Z",
     "start_time": "2023-11-10T14:23:44.863354Z"
    }
   }
  },
  {
   "cell_type": "code",
   "execution_count": 7,
   "outputs": [
    {
     "data": {
      "text/plain": "((100, 4), (100,))"
     },
     "execution_count": 7,
     "metadata": {},
     "output_type": "execute_result"
    }
   ],
   "source": [
    "x.shape, y.shape"
   ],
   "metadata": {
    "collapsed": false,
    "ExecuteTime": {
     "end_time": "2023-11-10T14:23:46.519436800Z",
     "start_time": "2023-11-10T14:23:46.509631Z"
    }
   }
  },
  {
   "cell_type": "code",
   "execution_count": 8,
   "outputs": [],
   "source": [
    "x_train = x.reshape(-1, x.shape[1]).astype('float32')\n",
    "y_train = y\n",
    "\n",
    "x_val = x_val.reshape(-1, x_val.shape[1]).astype('float32')\n",
    "y_val = y_val"
   ],
   "metadata": {
    "collapsed": false,
    "ExecuteTime": {
     "end_time": "2023-11-10T14:23:50.356629200Z",
     "start_time": "2023-11-10T14:23:50.353079400Z"
    }
   }
  },
  {
   "cell_type": "code",
   "execution_count": 8,
   "outputs": [
    {
     "data": {
      "text/plain": "(100, 4)"
     },
     "execution_count": 8,
     "metadata": {},
     "output_type": "execute_result"
    }
   ],
   "source": [
    "x_train.shape"
   ],
   "metadata": {
    "collapsed": false,
    "ExecuteTime": {
     "end_time": "2023-11-10T11:01:51.315465700Z",
     "start_time": "2023-11-10T11:01:51.312008700Z"
    }
   }
  },
  {
   "cell_type": "code",
   "execution_count": 9,
   "outputs": [],
   "source": [
    "x_val = torch.from_numpy(x_val)\n",
    "y_val = torch.from_numpy(y_val)"
   ],
   "metadata": {
    "collapsed": false,
    "ExecuteTime": {
     "end_time": "2023-11-10T11:05:24.387756600Z",
     "start_time": "2023-11-10T11:05:24.385743700Z"
    }
   }
  },
  {
   "cell_type": "code",
   "execution_count": 10,
   "outputs": [],
   "source": [
    "from torch.utils.data import Dataset, DataLoader\n",
    "class Data(Dataset):\n",
    "    def __init__(self):\n",
    "        self.x=torch.from_numpy(x).type(torch.FloatTensor)\n",
    "        self.y=torch.from_numpy(y).type(torch.LongTensor)\n",
    "        self.len=self.x.shape[0]\n",
    "    def __getitem__(self,index):\n",
    "        return self.x[index], self.y[index]\n",
    "    def __len__(self):\n",
    "        return self.len"
   ],
   "metadata": {
    "collapsed": false,
    "ExecuteTime": {
     "end_time": "2023-11-10T11:05:32.575355300Z",
     "start_time": "2023-11-10T11:05:32.571707300Z"
    }
   }
  },
  {
   "cell_type": "code",
   "execution_count": 11,
   "outputs": [],
   "source": [
    "data_set=Data()"
   ],
   "metadata": {
    "collapsed": false,
    "ExecuteTime": {
     "end_time": "2023-11-10T11:05:35.340393600Z",
     "start_time": "2023-11-10T11:05:35.338353800Z"
    }
   }
  },
  {
   "cell_type": "code",
   "execution_count": 12,
   "outputs": [],
   "source": [
    "trainloader=DataLoader(dataset=data_set,batch_size=10)"
   ],
   "metadata": {
    "collapsed": false,
    "ExecuteTime": {
     "end_time": "2023-11-10T11:05:36.812767500Z",
     "start_time": "2023-11-10T11:05:36.803760100Z"
    }
   }
  },
  {
   "cell_type": "code",
   "execution_count": 13,
   "outputs": [
    {
     "data": {
      "text/plain": "tensor([[5.7000, 2.9000, 4.2000, 1.3000],\n        [7.6000, 3.0000, 6.6000, 2.1000],\n        [5.6000, 3.0000, 4.5000, 1.5000],\n        [5.1000, 3.5000, 1.4000, 0.2000],\n        [7.7000, 2.8000, 6.7000, 2.0000],\n        [5.8000, 2.7000, 4.1000, 1.0000],\n        [5.2000, 3.4000, 1.4000, 0.2000],\n        [5.0000, 3.5000, 1.3000, 0.3000],\n        [5.1000, 3.8000, 1.9000, 0.4000],\n        [5.0000, 2.0000, 3.5000, 1.0000]])"
     },
     "execution_count": 13,
     "metadata": {},
     "output_type": "execute_result"
    }
   ],
   "source": [
    "data_set.x[0:10]"
   ],
   "metadata": {
    "collapsed": false,
    "ExecuteTime": {
     "end_time": "2023-11-10T11:05:37.576215700Z",
     "start_time": "2023-11-10T11:05:37.566049100Z"
    }
   }
  },
  {
   "cell_type": "code",
   "execution_count": 14,
   "outputs": [
    {
     "data": {
      "text/plain": "tensor([1, 2, 1, 0, 2, 1, 0, 0, 0, 1])"
     },
     "execution_count": 14,
     "metadata": {},
     "output_type": "execute_result"
    }
   ],
   "source": [
    "data_set.y[0:10]"
   ],
   "metadata": {
    "collapsed": false,
    "ExecuteTime": {
     "end_time": "2023-11-10T11:05:39.081362Z",
     "start_time": "2023-11-10T11:05:39.078511500Z"
    }
   }
  },
  {
   "cell_type": "code",
   "execution_count": 15,
   "outputs": [
    {
     "data": {
      "text/plain": "(torch.Size([100, 4]), torch.Size([100]))"
     },
     "execution_count": 15,
     "metadata": {},
     "output_type": "execute_result"
    }
   ],
   "source": [
    "data_set.x.shape, data_set.y.shape"
   ],
   "metadata": {
    "collapsed": false,
    "ExecuteTime": {
     "end_time": "2023-11-10T11:05:40.468246100Z",
     "start_time": "2023-11-10T11:05:40.460554400Z"
    }
   }
  },
  {
   "cell_type": "code",
   "execution_count": 16,
   "outputs": [],
   "source": [
    "class Net(nn.Module):\n",
    "    def __init__(self,in_size,n_hidden1,n_hidden2,out_size,p=0):\n",
    "\n",
    "        super(Net,self).__init__()\n",
    "        self.drop=nn.Dropout(p=p)\n",
    "        self.linear1=nn.Linear(in_size,n_hidden1)\n",
    "        nn.init.kaiming_uniform_(self.linear1.weight,nonlinearity='relu')\n",
    "        self.linear2=nn.Linear(n_hidden1,n_hidden2)\n",
    "        nn.init.kaiming_uniform_(self.linear1.weight,nonlinearity='relu')\n",
    "        self.linear3=nn.Linear(n_hidden2,n_hidden2)\n",
    "        nn.init.kaiming_uniform_(self.linear3.weight,nonlinearity='relu')\n",
    "        self.linear4=nn.Linear(n_hidden2,out_size)\n",
    "\n",
    "    def forward(self,x):\n",
    "        x=F.relu(self.linear1(x))\n",
    "        x=self.drop(x)\n",
    "        x=F.relu(self.linear2(x))\n",
    "        x=self.drop(x)\n",
    "        x=F.relu(self.linear3(x))\n",
    "        x=self.drop(x)\n",
    "        x=self.linear4(x)\n",
    "        return x"
   ],
   "metadata": {
    "collapsed": false,
    "ExecuteTime": {
     "end_time": "2023-11-10T11:05:42.473882600Z",
     "start_time": "2023-11-10T11:05:42.470925900Z"
    }
   }
  },
  {
   "cell_type": "code",
   "execution_count": 17,
   "outputs": [
    {
     "data": {
      "text/plain": "Net(\n  (drop): Dropout(p=0.2, inplace=False)\n  (linear1): Linear(in_features=4, out_features=10, bias=True)\n  (linear2): Linear(in_features=10, out_features=5, bias=True)\n  (linear3): Linear(in_features=5, out_features=5, bias=True)\n  (linear4): Linear(in_features=5, out_features=3, bias=True)\n)"
     },
     "execution_count": 17,
     "metadata": {},
     "output_type": "execute_result"
    }
   ],
   "source": [
    "model=Net(4,10,5,3)\n",
    "model_drop=Net(4,10,5,3,p=0.2)\n",
    "model_drop"
   ],
   "metadata": {
    "collapsed": false,
    "ExecuteTime": {
     "end_time": "2023-11-10T11:05:43.831328800Z",
     "start_time": "2023-11-10T11:05:43.826239400Z"
    }
   }
  },
  {
   "cell_type": "code",
   "execution_count": 18,
   "outputs": [
    {
     "data": {
      "text/plain": "Net(\n  (drop): Dropout(p=0.2, inplace=False)\n  (linear1): Linear(in_features=4, out_features=10, bias=True)\n  (linear2): Linear(in_features=10, out_features=5, bias=True)\n  (linear3): Linear(in_features=5, out_features=5, bias=True)\n  (linear4): Linear(in_features=5, out_features=3, bias=True)\n)"
     },
     "execution_count": 18,
     "metadata": {},
     "output_type": "execute_result"
    }
   ],
   "source": [
    "model_drop.train()"
   ],
   "metadata": {
    "collapsed": false,
    "ExecuteTime": {
     "end_time": "2023-11-10T11:05:45.023144300Z",
     "start_time": "2023-11-10T11:05:45.013607500Z"
    }
   }
  },
  {
   "cell_type": "code",
   "execution_count": 19,
   "outputs": [],
   "source": [
    "optimizer_ofit = torch.optim.Adam(model.parameters(), lr=0.01)\n",
    "optimizer_drop = torch.optim.Adam(model_drop.parameters(), lr=0.01)\n",
    "criterion = torch.nn.CrossEntropyLoss()"
   ],
   "metadata": {
    "collapsed": false,
    "ExecuteTime": {
     "end_time": "2023-11-10T11:05:46.683484800Z",
     "start_time": "2023-11-10T11:05:46.429233300Z"
    }
   }
  },
  {
   "cell_type": "code",
   "execution_count": 20,
   "outputs": [],
   "source": [
    "LOSS={}\n",
    "LOSS['training data no dropout']=[]\n",
    "LOSS['validation data no dropout']=[]\n",
    "LOSS['training data dropout']=[]\n",
    "LOSS['validation data dropout']=[]"
   ],
   "metadata": {
    "collapsed": false,
    "ExecuteTime": {
     "end_time": "2023-11-10T11:05:47.865505500Z",
     "start_time": "2023-11-10T11:05:47.855582700Z"
    }
   }
  },
  {
   "cell_type": "code",
   "execution_count": 21,
   "outputs": [
    {
     "name": "stdout",
     "output_type": "stream",
     "text": [
      "epoch 0, loss 1.0914734601974487\n",
      "epoch 0, loss 1.0669976472854614\n",
      "epoch 0, loss 1.0420163869857788\n",
      "epoch 0, loss 1.0222561359405518\n",
      "epoch 0, loss 1.0018383264541626\n",
      "epoch 0, loss 0.9818649291992188\n",
      "epoch 0, loss 0.9609546661376953\n",
      "epoch 0, loss 0.9406586289405823\n",
      "epoch 0, loss 0.9200198650360107\n",
      "epoch 0, loss 0.899290919303894\n",
      "epoch 1, loss 0.8782057762145996\n",
      "epoch 1, loss 0.8507199883460999\n",
      "epoch 1, loss 0.7923216223716736\n",
      "epoch 1, loss 0.7322948575019836\n",
      "epoch 1, loss 0.690931499004364\n",
      "epoch 1, loss 0.6642774939537048\n",
      "epoch 1, loss 0.6351869106292725\n",
      "epoch 1, loss 0.5968371629714966\n",
      "epoch 1, loss 0.5593653321266174\n",
      "epoch 1, loss 0.5329017043113708\n",
      "epoch 2, loss 0.5175607204437256\n",
      "epoch 2, loss 0.501884400844574\n",
      "epoch 2, loss 0.4796796143054962\n",
      "epoch 2, loss 0.4546179473400116\n",
      "epoch 2, loss 0.4339020550251007\n",
      "epoch 2, loss 0.4209747016429901\n",
      "epoch 2, loss 0.411245197057724\n",
      "epoch 2, loss 0.39793747663497925\n",
      "epoch 2, loss 0.380657434463501\n",
      "epoch 2, loss 0.3647836744785309\n",
      "epoch 3, loss 0.3538607656955719\n",
      "epoch 3, loss 0.34459102153778076\n",
      "epoch 3, loss 0.33275100588798523\n",
      "epoch 3, loss 0.3188849687576294\n",
      "epoch 3, loss 0.3072662949562073\n",
      "epoch 3, loss 0.29911473393440247\n",
      "epoch 3, loss 0.28998443484306335\n",
      "epoch 3, loss 0.2777600586414337\n",
      "epoch 3, loss 0.2663210928440094\n",
      "epoch 3, loss 0.2580052316188812\n",
      "epoch 4, loss 0.24916721880435944\n",
      "epoch 4, loss 0.23782514035701752\n",
      "epoch 4, loss 0.22796419262886047\n",
      "epoch 4, loss 0.220469132065773\n",
      "epoch 4, loss 0.21110153198242188\n",
      "epoch 4, loss 0.2011997103691101\n",
      "epoch 4, loss 0.19401498138904572\n",
      "epoch 4, loss 0.18625961244106293\n",
      "epoch 4, loss 0.17749947309494019\n",
      "epoch 4, loss 0.171234592795372\n",
      "epoch 5, loss 0.1646280735731125\n",
      "epoch 5, loss 0.15735571086406708\n",
      "epoch 5, loss 0.15226852893829346\n",
      "epoch 5, loss 0.1465170681476593\n",
      "epoch 5, loss 0.14090178906917572\n",
      "epoch 5, loss 0.13687075674533844\n",
      "epoch 5, loss 0.13190105557441711\n",
      "epoch 5, loss 0.12794247269630432\n",
      "epoch 5, loss 0.12450111657381058\n",
      "epoch 5, loss 0.12056602537631989\n",
      "epoch 6, loss 0.11784406751394272\n",
      "epoch 6, loss 0.11473898589611053\n",
      "epoch 6, loss 0.11203836649656296\n",
      "epoch 6, loss 0.10985222458839417\n",
      "epoch 6, loss 0.10730104148387909\n",
      "epoch 6, loss 0.10552714020013809\n",
      "epoch 6, loss 0.10348300635814667\n",
      "epoch 6, loss 0.10176631808280945\n",
      "epoch 6, loss 0.10026448220014572\n",
      "epoch 6, loss 0.09861212968826294\n",
      "epoch 7, loss 0.09742569178342819\n",
      "epoch 7, loss 0.09599180519580841\n",
      "epoch 7, loss 0.09490647166967392\n",
      "epoch 7, loss 0.09375877678394318\n",
      "epoch 7, loss 0.09269919991493225\n",
      "epoch 7, loss 0.09178689122200012\n",
      "epoch 7, loss 0.09078290313482285\n",
      "epoch 7, loss 0.09001073241233826\n",
      "epoch 7, loss 0.08910702913999557\n",
      "epoch 7, loss 0.08840017020702362\n",
      "epoch 8, loss 0.08761663734912872\n",
      "epoch 8, loss 0.08694151043891907\n",
      "epoch 8, loss 0.08626947551965714\n",
      "epoch 8, loss 0.08561956137418747\n",
      "epoch 8, loss 0.08503337949514389\n",
      "epoch 8, loss 0.0844174325466156\n",
      "epoch 8, loss 0.08389025926589966\n",
      "epoch 8, loss 0.08331504464149475\n",
      "epoch 8, loss 0.08282701671123505\n",
      "epoch 8, loss 0.08229582756757736\n",
      "epoch 9, loss 0.08183497190475464\n",
      "epoch 9, loss 0.08134579658508301\n",
      "epoch 9, loss 0.08090592175722122\n",
      "epoch 9, loss 0.08045608550310135\n",
      "epoch 9, loss 0.08003516495227814\n",
      "epoch 9, loss 0.07961658388376236\n",
      "epoch 9, loss 0.0792129784822464\n",
      "epoch 9, loss 0.07882026582956314\n",
      "epoch 9, loss 0.07843384146690369\n",
      "epoch 9, loss 0.07806254923343658\n",
      "epoch 10, loss 0.07769245654344559\n",
      "epoch 10, loss 0.07733912765979767\n",
      "epoch 10, loss 0.07698550820350647\n",
      "epoch 10, loss 0.0766487717628479\n",
      "epoch 10, loss 0.07631154358386993\n",
      "epoch 10, loss 0.07598820328712463\n",
      "epoch 10, loss 0.0756644532084465\n",
      "epoch 10, loss 0.07535294443368912\n",
      "epoch 10, loss 0.07504113018512726\n",
      "epoch 10, loss 0.07474015653133392\n",
      "epoch 11, loss 0.0744393989443779\n",
      "epoch 11, loss 0.0741480141878128\n",
      "epoch 11, loss 0.07385732978582382\n",
      "epoch 11, loss 0.07357479631900787\n",
      "epoch 11, loss 0.07329350709915161\n",
      "epoch 11, loss 0.07301904261112213\n",
      "epoch 11, loss 0.07274628430604935\n",
      "epoch 11, loss 0.07247953861951828\n",
      "epoch 11, loss 0.07221606373786926\n",
      "epoch 11, loss 0.07195761054754257\n",
      "epoch 12, loss 0.0717020183801651\n",
      "epoch 12, loss 0.07145024836063385\n",
      "epoch 12, loss 0.07120181620121002\n",
      "epoch 12, loss 0.07095646858215332\n",
      "epoch 12, loss 0.07071470469236374\n",
      "epoch 12, loss 0.07047541439533234\n",
      "epoch 12, loss 0.07023994624614716\n",
      "epoch 12, loss 0.07000646740198135\n",
      "epoch 12, loss 0.06977681815624237\n",
      "epoch 12, loss 0.06954895704984665\n",
      "epoch 13, loss 0.069324791431427\n",
      "epoch 13, loss 0.06910231709480286\n",
      "epoch 13, loss 0.0688832700252533\n",
      "epoch 13, loss 0.06866595149040222\n",
      "epoch 13, loss 0.06845182180404663\n",
      "epoch 13, loss 0.0682394802570343\n",
      "epoch 13, loss 0.06802990287542343\n",
      "epoch 13, loss 0.0678224042057991\n",
      "epoch 13, loss 0.06761717796325684\n",
      "epoch 13, loss 0.06741410493850708\n",
      "epoch 14, loss 0.06721308827400208\n",
      "epoch 14, loss 0.06701434403657913\n",
      "epoch 14, loss 0.06681731343269348\n",
      "epoch 14, loss 0.0666225403547287\n",
      "epoch 14, loss 0.0664294883608818\n",
      "epoch 14, loss 0.06623849272727966\n",
      "epoch 14, loss 0.06604918092489243\n",
      "epoch 14, loss 0.06586180627346039\n",
      "epoch 14, loss 0.06567611545324326\n",
      "epoch 14, loss 0.06549215316772461\n",
      "epoch 15, loss 0.06530991196632385\n",
      "epoch 15, loss 0.06512929499149323\n",
      "epoch 15, loss 0.06495034694671631\n",
      "epoch 15, loss 0.06477290391921997\n",
      "epoch 15, loss 0.06459705531597137\n",
      "epoch 15, loss 0.06442268937826157\n",
      "epoch 15, loss 0.06424987316131592\n",
      "epoch 15, loss 0.0640784278512001\n",
      "epoch 15, loss 0.06390843540430069\n",
      "epoch 15, loss 0.06373986601829529\n",
      "epoch 16, loss 0.06357255578041077\n",
      "epoch 16, loss 0.06340663135051727\n",
      "epoch 16, loss 0.06324201822280884\n",
      "epoch 16, loss 0.06307873129844666\n",
      "epoch 16, loss 0.06291667371988297\n",
      "epoch 16, loss 0.06275589764118195\n",
      "epoch 16, loss 0.06259627640247345\n",
      "epoch 16, loss 0.062437836080789566\n",
      "epoch 16, loss 0.062280550599098206\n",
      "epoch 16, loss 0.062124352902173996\n",
      "epoch 17, loss 0.0619693249464035\n",
      "epoch 17, loss 0.06181534379720688\n",
      "epoch 17, loss 0.061662446707487106\n",
      "epoch 17, loss 0.06151057407259941\n",
      "epoch 17, loss 0.06135967746376991\n",
      "epoch 17, loss 0.061209842562675476\n",
      "epoch 17, loss 0.06106090173125267\n",
      "epoch 17, loss 0.06091294810175896\n",
      "epoch 17, loss 0.06076591834425926\n",
      "epoch 17, loss 0.06061987578868866\n",
      "epoch 18, loss 0.06047471985220909\n",
      "epoch 18, loss 0.060330361127853394\n",
      "epoch 18, loss 0.0601869635283947\n",
      "epoch 18, loss 0.060044389218091965\n",
      "epoch 18, loss 0.059902600944042206\n",
      "epoch 18, loss 0.05976172909140587\n",
      "epoch 18, loss 0.05962163954973221\n",
      "epoch 18, loss 0.05948226526379585\n",
      "epoch 18, loss 0.05934371426701546\n",
      "epoch 18, loss 0.05920586735010147\n",
      "epoch 19, loss 0.05906876176595688\n",
      "epoch 19, loss 0.0589323490858078\n",
      "epoch 19, loss 0.058796655386686325\n",
      "epoch 19, loss 0.058661721646785736\n",
      "epoch 19, loss 0.05852745473384857\n",
      "epoch 19, loss 0.05839395523071289\n",
      "epoch 19, loss 0.05826100707054138\n",
      "epoch 19, loss 0.058128759264945984\n",
      "epoch 19, loss 0.05799710750579834\n",
      "epoch 19, loss 0.057866066694259644\n"
     ]
    }
   ],
   "source": [
    "n_epochs=20\n",
    "\n",
    "for epoch in range(n_epochs):\n",
    "    for x, y in trainloader:\n",
    "        #make a prediction for both models\n",
    "        yhat = model(data_set.x)\n",
    "        yhat_drop = model_drop(data_set.x)\n",
    "        #calculate the lossf or both models\n",
    "        loss = criterion(yhat, data_set.y)\n",
    "        loss_drop = criterion(yhat_drop, data_set.y)\n",
    "\n",
    "        #store the loss for  both the training and validation  data for both models\n",
    "        LOSS['training data no dropout'].append(loss.item())\n",
    "        LOSS['training data dropout'].append(loss_drop.item())\n",
    "        model_drop.eval()\n",
    "        model_drop.train()\n",
    "\n",
    "        #clear gradient\n",
    "        optimizer_ofit.zero_grad()\n",
    "        optimizer_drop.zero_grad()\n",
    "        #Backward pass: compute gradient of the loss with respect to all the learnable parameters\n",
    "        loss.backward()\n",
    "        loss_drop.backward()\n",
    "        #the step function on an Optimizer makes an update to its parameters\n",
    "        optimizer_ofit.step()\n",
    "        optimizer_drop.step()\n",
    "\n",
    "        print('epoch {}, loss {}'.format(epoch, loss.item()))"
   ],
   "metadata": {
    "collapsed": false,
    "ExecuteTime": {
     "end_time": "2023-11-10T11:05:48.980514700Z",
     "start_time": "2023-11-10T11:05:48.616957700Z"
    }
   }
  },
  {
   "cell_type": "code",
   "execution_count": 22,
   "outputs": [
    {
     "data": {
      "text/plain": "tensor([[ -4.4846,   4.4415,  -3.3953],\n        [-11.1101,   2.9503,  12.9989],\n        [ -5.7360,   3.8979,   0.4017],\n        [  6.8188,  -2.4858, -28.1649],\n        [-11.1732,   2.9544,  13.1063],\n        [ -3.6291,   4.8577,  -6.1103],\n        [  6.7986,  -2.4764, -28.0897],\n        [  6.6763,  -2.4190, -27.6346],\n        [  6.3119,  -1.9902, -27.1213],\n        [ -3.6219,   3.9316,  -3.6468]], grad_fn=<SliceBackward0>)"
     },
     "execution_count": 22,
     "metadata": {},
     "output_type": "execute_result"
    }
   ],
   "source": [
    "yhat[0:10]"
   ],
   "metadata": {
    "collapsed": false,
    "ExecuteTime": {
     "end_time": "2023-11-10T11:05:50.931125700Z",
     "start_time": "2023-11-10T11:05:50.921148100Z"
    }
   }
  },
  {
   "cell_type": "code",
   "execution_count": 23,
   "outputs": [
    {
     "data": {
      "text/plain": "torch.return_types.max(\nvalues=tensor([ 4.4415, 12.9989,  3.8979,  6.8188, 13.1063,  4.8577,  6.7986,  6.6763,\n         6.3119,  3.9316,  4.7880,  5.9321,  6.0858,  5.7469,  4.1421,  6.6762,\n         4.6981, 10.0792,  6.1575,  4.7957, 10.2836,  7.7861,  3.6610,  9.0621,\n         4.5921,  3.7217,  9.4765,  3.8042,  7.0484,  4.4213,  8.1672,  6.5531,\n         6.5524,  4.3846,  4.1333,  6.2401, 10.3057,  6.6011,  5.9317,  3.6615,\n         4.7354, 10.0186,  5.6290,  7.4328, 10.8365,  4.0155,  5.7214,  5.9982,\n         6.6473,  6.5896,  6.0149,  6.7041,  5.8640,  3.6410, 10.8774,  6.2334,\n         8.2463, 12.4928,  6.2799,  4.2111,  4.3932,  3.9317,  5.3209,  9.0820,\n         7.0100,  6.6111,  4.4214,  6.3670,  5.1822,  3.8978,  4.4031,  5.0193,\n         4.8890,  3.9266,  7.1122,  4.5454,  9.9376,  8.5033,  6.7327,  4.4388,\n        11.7583,  4.4278,  6.8785, 11.2616,  6.1922,  4.8035,  9.5156,  8.7853,\n         4.4223,  6.7606,  4.1636,  4.9719,  8.7589,  6.2134,  6.7856,  4.8611,\n         7.4278,  7.9154,  4.5364,  9.9619]),\nindices=tensor([1, 2, 1, 0, 2, 1, 0, 0, 0, 1, 2, 0, 0, 0, 1, 0, 1, 2, 0, 1, 2, 0, 2, 2,\n        1, 1, 2, 1, 0, 1, 2, 0, 0, 1, 1, 0, 2, 0, 0, 1, 1, 2, 2, 2, 2, 1, 0, 0,\n        2, 2, 0, 0, 0, 1, 2, 0, 2, 2, 0, 1, 1, 2, 1, 2, 0, 2, 1, 2, 1, 1, 1, 0,\n        1, 1, 0, 1, 2, 2, 0, 1, 2, 2, 0, 2, 0, 1, 2, 2, 1, 2, 1, 1, 2, 2, 0, 1,\n        2, 0, 1, 2]))"
     },
     "execution_count": 23,
     "metadata": {},
     "output_type": "execute_result"
    }
   ],
   "source": [
    "torch.max(yhat.data,1)"
   ],
   "metadata": {
    "collapsed": false,
    "ExecuteTime": {
     "end_time": "2023-11-10T11:05:52.733995800Z",
     "start_time": "2023-11-10T11:05:52.725631700Z"
    }
   }
  },
  {
   "cell_type": "code",
   "execution_count": 24,
   "outputs": [
    {
     "data": {
      "text/plain": "tensor([1, 1, 2, 2, 0, 1, 2, 0, 1, 2])"
     },
     "execution_count": 24,
     "metadata": {},
     "output_type": "execute_result"
    }
   ],
   "source": [
    "y"
   ],
   "metadata": {
    "collapsed": false,
    "ExecuteTime": {
     "end_time": "2023-11-10T11:05:53.617017900Z",
     "start_time": "2023-11-10T11:05:53.610257300Z"
    }
   }
  },
  {
   "cell_type": "code",
   "execution_count": 25,
   "outputs": [],
   "source": [
    "z = model(x_val)\n",
    "z_dropout = model_drop(x_val)"
   ],
   "metadata": {
    "collapsed": false,
    "ExecuteTime": {
     "end_time": "2023-11-10T11:05:54.609778800Z",
     "start_time": "2023-11-10T11:05:54.582556100Z"
    }
   }
  },
  {
   "cell_type": "code",
   "execution_count": 25,
   "outputs": [],
   "source": [],
   "metadata": {
    "collapsed": false,
    "ExecuteTime": {
     "end_time": "2023-11-10T11:05:55.175540100Z",
     "start_time": "2023-11-10T11:05:55.133193600Z"
    }
   }
  },
  {
   "cell_type": "code",
   "execution_count": 26,
   "outputs": [
    {
     "data": {
      "text/plain": "tensor([1, 0, 2, 1, 1, 0, 1, 2, 1, 1, 2, 0, 0, 0, 0, 1, 2, 1, 1, 2])"
     },
     "execution_count": 26,
     "metadata": {},
     "output_type": "execute_result"
    }
   ],
   "source": [
    "_,yhat=torch.max(z.data,1)\n",
    "yhat[0:20]"
   ],
   "metadata": {
    "collapsed": false,
    "ExecuteTime": {
     "end_time": "2023-11-10T11:06:56.443817Z",
     "start_time": "2023-11-10T11:06:56.440890400Z"
    }
   }
  },
  {
   "cell_type": "code",
   "execution_count": null,
   "outputs": [],
   "source": [
    "_,yhat_dropout=torch.max(z_dropout.data,1)\n",
    "yhat_dropout[0:20]"
   ],
   "metadata": {
    "collapsed": false
   }
  },
  {
   "cell_type": "code",
   "execution_count": null,
   "outputs": [],
   "source": [
    "y_val[0:20]"
   ],
   "metadata": {
    "collapsed": false
   }
  },
  {
   "cell_type": "code",
   "execution_count": null,
   "outputs": [],
   "source": [
    "# Making the Confusion Matrix\n",
    "eval_matrix = (pd.crosstab(y_val, yhat))\n",
    "print(eval_matrix)"
   ],
   "metadata": {
    "collapsed": false
   }
  },
  {
   "cell_type": "code",
   "execution_count": null,
   "outputs": [],
   "source": [
    "# Making the Confusion Matrix\n",
    "eval_matrix_dropout = (pd.crosstab(y_val, yhat_dropout))\n",
    "print(eval_matrix_dropout)"
   ],
   "metadata": {
    "collapsed": false
   }
  },
  {
   "cell_type": "code",
   "execution_count": null,
   "outputs": [],
   "source": [
    "(eval_matrix[0][0]+eval_matrix[1][1]+eval_matrix[2][2])/y_val.shape[0]"
   ],
   "metadata": {
    "collapsed": false
   }
  },
  {
   "cell_type": "code",
   "execution_count": null,
   "outputs": [],
   "source": [
    "(eval_matrix_dropout[0][0]+eval_matrix_dropout[1][1]+eval_matrix_dropout[2][2])/y_val.shape[0]"
   ],
   "metadata": {
    "collapsed": false
   }
  }
 ],
 "metadata": {
  "kernelspec": {
   "display_name": "Python 3",
   "language": "python",
   "name": "python3"
  },
  "language_info": {
   "codemirror_mode": {
    "name": "ipython",
    "version": 2
   },
   "file_extension": ".py",
   "mimetype": "text/x-python",
   "name": "python",
   "nbconvert_exporter": "python",
   "pygments_lexer": "ipython2",
   "version": "2.7.6"
  }
 },
 "nbformat": 4,
 "nbformat_minor": 0
}
