{
 "cells": [
  {
   "cell_type": "code",
   "execution_count": 89,
   "metadata": {
    "collapsed": true,
    "ExecuteTime": {
     "end_time": "2023-11-25T07:24:50.317966200Z",
     "start_time": "2023-11-25T07:24:50.314954500Z"
    }
   },
   "outputs": [],
   "source": [
    "import os\n",
    "import sys\n",
    "os.environ['PYSPARK_PYTHON'] = sys.executable\n",
    "os.environ['PYSPARK_DRIVER_PYTHON'] = sys.executable\n",
    "\n",
    "from pyspark.sql import SparkSession"
   ]
  },
  {
   "cell_type": "code",
   "execution_count": 90,
   "outputs": [],
   "source": [
    "spark = SparkSession.builder.appName(\"DataLoadTest\").getOrCreate()\n",
    "sc = spark.sparkContext\n",
    "sc.setLogLevel(\"INFO\")"
   ],
   "metadata": {
    "collapsed": false,
    "ExecuteTime": {
     "end_time": "2023-11-25T07:24:50.388505200Z",
     "start_time": "2023-11-25T07:24:50.316994500Z"
    }
   }
  },
  {
   "cell_type": "code",
   "execution_count": 91,
   "outputs": [
    {
     "data": {
      "text/plain": "'D:\\\\Users\\\\pereg\\\\AppData\\\\Local\\\\Programs\\\\Python\\\\Python311\\\\python.exe'"
     },
     "execution_count": 91,
     "metadata": {},
     "output_type": "execute_result"
    }
   ],
   "source": [
    "sys.executable"
   ],
   "metadata": {
    "collapsed": false,
    "ExecuteTime": {
     "end_time": "2023-11-25T07:24:50.393247100Z",
     "start_time": "2023-11-25T07:24:50.389505500Z"
    }
   }
  },
  {
   "cell_type": "code",
   "execution_count": 92,
   "outputs": [],
   "source": [
    "path = \"../../data/dom/amazon.dataset.libsvm.11.24.50.txt\"\n",
    "lines = sc.textFile(path)"
   ],
   "metadata": {
    "collapsed": false,
    "ExecuteTime": {
     "end_time": "2023-11-25T07:24:50.408331600Z",
     "start_time": "2023-11-25T07:24:50.394247Z"
    }
   }
  },
  {
   "cell_type": "code",
   "execution_count": 93,
   "outputs": [],
   "source": [
    "c = lines.count()"
   ],
   "metadata": {
    "collapsed": false,
    "ExecuteTime": {
     "end_time": "2023-11-25T07:24:51.508199200Z",
     "start_time": "2023-11-25T07:24:50.408331600Z"
    }
   }
  },
  {
   "cell_type": "code",
   "execution_count": 94,
   "outputs": [
    {
     "data": {
      "text/plain": "5374"
     },
     "execution_count": 94,
     "metadata": {},
     "output_type": "execute_result"
    }
   ],
   "source": [
    "c"
   ],
   "metadata": {
    "collapsed": false,
    "ExecuteTime": {
     "end_time": "2023-11-25T07:24:51.511812700Z",
     "start_time": "2023-11-25T07:24:51.509198100Z"
    }
   }
  },
  {
   "cell_type": "code",
   "execution_count": 95,
   "outputs": [],
   "source": [
    "metadata = lines.filter(lambda line: line[0] == \"#\")"
   ],
   "metadata": {
    "collapsed": false,
    "ExecuteTime": {
     "end_time": "2023-11-25T07:24:51.515472Z",
     "start_time": "2023-11-25T07:24:51.512813700Z"
    }
   }
  },
  {
   "cell_type": "code",
   "execution_count": 96,
   "outputs": [
    {
     "data": {
      "text/plain": "PythonRDD[3] at RDD at PythonRDD.scala:53"
     },
     "execution_count": 96,
     "metadata": {},
     "output_type": "execute_result"
    }
   ],
   "source": [
    "metadata"
   ],
   "metadata": {
    "collapsed": false,
    "ExecuteTime": {
     "end_time": "2023-11-25T07:24:51.524311300Z",
     "start_time": "2023-11-25T07:24:51.517470500Z"
    }
   }
  },
  {
   "cell_type": "code",
   "execution_count": 97,
   "outputs": [],
   "source": [
    "rdd = lines\\\n",
    "    .filter(lambda line: line[0] != \"#\")\\\n",
    "    .map(lambda line: (line.split(\" ^|^ \")))\\\n",
    "    .filter(lambda record: len(record) == 4)"
   ],
   "metadata": {
    "collapsed": false,
    "ExecuteTime": {
     "end_time": "2023-11-25T07:24:51.526931400Z",
     "start_time": "2023-11-25T07:24:51.524311300Z"
    }
   }
  },
  {
   "cell_type": "code",
   "execution_count": 98,
   "outputs": [
    {
     "data": {
      "text/plain": "[['-1',\n  ' 1:999.7 2:1501.1 3:42.8 4:15.3 5:6 11:31 12:3474 33:6 34:6 35:6 64:42.8 65:15.3 70:999.7 71:1501.1 72:42.8 73:15.3 74:6 75:1 78:2 80:30 81:3473 82:253.9683 90:999.7 91:1501.1 95:1 102:6 103:6 104:6 105:1 109:3473 122:42.8 124:15.3 133:42.8 134:15.3 139:997.7 140:1364.3 141:179.6 142:20 143:5 149:30 150:3472 171:5 172:5 173:5 202:179.6 203:20 208:997.7 209:1364.3 210:179.6 211:20 212:5 218:30 219:3472 240:5 241:5 242:5 271:179.6 272:20',\n  '$17.99',\n  'https://www.amazon.com/dp/B0148NNKTC'],\n ['-1',\n  ' 1:999.7 2:1369.3 3:107.7 4:15.3 5:17 11:31 12:3471 33:17 34:17 35:17 64:107.7 65:15.3 70:999.7 71:1369.3 72:107.7 73:15.3 74:17 75:1 77:1 78:2 80:30 81:3470 82:99.6885 90:999.7 91:1369.3 95:1 102:17 103:17 104:17 105:1 109:3470 122:107.7 124:15.3 126:107.7 128:15.3 133:107.7 134:15.3 135:107.7 136:15.3 139:997.7 140:1364.3 141:179.6 142:20 149:30 150:3469 208:997.7 209:1364.3 210:179.6 211:20 218:30 219:3469',\n  '4-Year Protection',\n  'https://www.amazon.com/dp/B0148NNKTC'],\n ['-1',\n  ' 1:999.5 2:636.7 3:667 4:28 5:17 11:11 12:6403 33:17 34:17 35:17 64:667 65:28 70:999.5 71:636.7 72:667 73:28 74:17 75:1 78:3 80:10 81:6402 82:8.5671 90:999.5 91:636.7 95:1 102:17 103:17 104:17 105:1 109:6402 122:667 124:28 133:667 134:28 139:984.5 140:636.7 141:667 142:303 149:10 150:6401 208:984.5 209:636.7 210:667 211:303 218:10 219:6401',\n  'About this item',\n  'https://www.amazon.com/dp/B014I8SIJY'],\n ['-1',\n  ' 1:999.4 2:1506 3:44.5 4:17.3 5:6 11:30 12:3291 33:6 34:6 35:6 64:44.5 65:17.3 70:999.4 71:1506 72:44.5 73:17.3 74:6 75:1 78:2 80:29 81:3290 82:213.9037 90:999.4 91:1506 95:1 102:6 103:6 104:6 105:1 109:3290 122:44.5 124:17.3 133:44.5 134:17.3 139:998.1 140:1364.3 141:186.2 142:20 143:5 149:29 150:3289 171:5 172:5 173:5 202:186.2 203:20 208:998.1 209:1364.3 210:186.2 211:20 212:5 218:29 219:3289 240:5 241:5 242:5 271:186.2 272:20',\n  '$32.99',\n  'https://www.amazon.com/dp/B01CX26WIG'],\n ['-1',\n  ' 1:999.4 2:1369.3 3:110.8 4:17.3 5:17 11:30 12:3288 33:17 34:17 35:17 64:110.8 65:17.3 70:999.4 71:1369.3 72:110.8 73:17.3 74:17 75:1 77:1 78:2 80:29 81:3287 82:85.5615 90:999.4 91:1369.3 95:1 102:17 103:17 104:17 105:1 109:3287 122:110.8 124:17.3 126:110.8 128:17.3 133:110.8 134:17.3 135:110.8 136:17.3 139:998.1 140:1364.3 141:186.2 142:20 149:29 150:3286 208:998.1 209:1364.3 210:186.2 211:20 218:29 219:3286',\n  '4-Year Protection',\n  'https://www.amazon.com/dp/B01CX26WIG']]"
     },
     "execution_count": 98,
     "metadata": {},
     "output_type": "execute_result"
    }
   ],
   "source": [
    "rdd.top(5)"
   ],
   "metadata": {
    "collapsed": false,
    "ExecuteTime": {
     "end_time": "2023-11-25T07:24:52.454341100Z",
     "start_time": "2023-11-25T07:24:51.527932300Z"
    }
   }
  },
  {
   "cell_type": "code",
   "execution_count": 98,
   "outputs": [],
   "source": [],
   "metadata": {
    "collapsed": false,
    "ExecuteTime": {
     "end_time": "2023-11-25T07:24:52.455346200Z",
     "start_time": "2023-11-25T07:24:52.454341100Z"
    }
   }
  },
  {
   "cell_type": "code",
   "execution_count": 98,
   "outputs": [],
   "source": [],
   "metadata": {
    "collapsed": false,
    "ExecuteTime": {
     "end_time": "2023-11-25T07:24:52.457889100Z",
     "start_time": "2023-11-25T07:24:52.456346500Z"
    }
   }
  },
  {
   "cell_type": "code",
   "execution_count": 99,
   "outputs": [],
   "source": [
    "rdd2 = rdd.map(lambda r: (r[0], r[1], r[2].split(\" \"), r[3]))\n",
    "df2 = rdd2.toDF([\"label\", \"numeric_features\", \"words\", \"url\"])"
   ],
   "metadata": {
    "collapsed": false,
    "ExecuteTime": {
     "end_time": "2023-11-25T07:24:52.967331400Z",
     "start_time": "2023-11-25T07:24:52.459889400Z"
    }
   }
  },
  {
   "cell_type": "code",
   "execution_count": 100,
   "outputs": [
    {
     "name": "stdout",
     "output_type": "stream",
     "text": [
      "+-----+--------------------+--------------------+--------------------+\n",
      "|label|    numeric_features|               words|                 url|\n",
      "+-----+--------------------+--------------------+--------------------+\n",
      "|   -1| 1:231 2:1348.3 3...|[Prime, Exclusive...|https://www.amazo...|\n",
      "|   -1| 1:261.3 2:1348.3...|            [$21.59]|https://www.amazo...|\n",
      "|   -1| 1:258.6 2:1348.3...|                 [$]|https://www.amazo...|\n",
      "|   -1| 1:253.7 2:1356 3...|                [21]|https://www.amazo...|\n",
      "|   -1| 1:253.7 2:1388.8...|                 [.]|https://www.amazo...|\n",
      "+-----+--------------------+--------------------+--------------------+\n",
      "only showing top 5 rows\n",
      "\n"
     ]
    }
   ],
   "source": [
    "df2.show(5)"
   ],
   "metadata": {
    "collapsed": false,
    "ExecuteTime": {
     "end_time": "2023-11-25T07:24:53.439449700Z",
     "start_time": "2023-11-25T07:24:52.969331900Z"
    }
   }
  },
  {
   "cell_type": "code",
   "execution_count": 101,
   "outputs": [],
   "source": [
    "from pyspark.ml.feature import Word2Vec\n",
    "from ml.dom.data.DataUtils import DataUtils\n",
    "word2Vec = Word2Vec(vectorSize=3, minCount=0, inputCol=\"words\", outputCol=\"word_vec\")\n",
    "model = word2Vec.fit(df2)\n",
    "df3 = model.transform(df2)"
   ],
   "metadata": {
    "collapsed": false,
    "ExecuteTime": {
     "end_time": "2023-11-25T07:24:55.501291200Z",
     "start_time": "2023-11-25T07:24:53.439449700Z"
    }
   }
  },
  {
   "cell_type": "code",
   "execution_count": 102,
   "outputs": [
    {
     "data": {
      "text/plain": "DataFrame[label: string, numeric_features: string, words: array<string>, url: string, word_vec: vector]"
     },
     "execution_count": 102,
     "metadata": {},
     "output_type": "execute_result"
    }
   ],
   "source": [
    "df3"
   ],
   "metadata": {
    "collapsed": false,
    "ExecuteTime": {
     "end_time": "2023-11-25T07:24:55.505912800Z",
     "start_time": "2023-11-25T07:24:55.502290800Z"
    }
   }
  },
  {
   "cell_type": "code",
   "execution_count": 103,
   "outputs": [
    {
     "name": "stdout",
     "output_type": "stream",
     "text": [
      "+-----+--------------------+--------------------+--------------------+--------------------+\n",
      "|label|    numeric_features|               words|                 url|            word_vec|\n",
      "+-----+--------------------+--------------------+--------------------+--------------------+\n",
      "|   -1| 1:231 2:1348.3 3...|[Prime, Exclusive...|https://www.amazo...|[0.16822208464145...|\n",
      "|   -1| 1:261.3 2:1348.3...|            [$21.59]|https://www.amazo...|[-0.1416766792535...|\n",
      "|   -1| 1:258.6 2:1348.3...|                 [$]|https://www.amazo...|[-0.0205316543579...|\n",
      "|   -1| 1:253.7 2:1356 3...|                [21]|https://www.amazo...|[-0.0653516799211...|\n",
      "|   -1| 1:253.7 2:1388.8...|                 [.]|https://www.amazo...|[-0.4197035133838...|\n",
      "+-----+--------------------+--------------------+--------------------+--------------------+\n",
      "only showing top 5 rows\n",
      "\n"
     ]
    }
   ],
   "source": [
    "df3.show(5)"
   ],
   "metadata": {
    "collapsed": false,
    "ExecuteTime": {
     "end_time": "2023-11-25T07:24:56.054654Z",
     "start_time": "2023-11-25T07:24:55.506913100Z"
    }
   }
  },
  {
   "cell_type": "code",
   "execution_count": null,
   "outputs": [],
   "source": [],
   "metadata": {
    "collapsed": false
   }
  },
  {
   "cell_type": "code",
   "execution_count": 104,
   "outputs": [],
   "source": [
    "spark.stop()"
   ],
   "metadata": {
    "collapsed": false,
    "ExecuteTime": {
     "end_time": "2023-11-25T07:24:57.059464400Z",
     "start_time": "2023-11-25T07:24:56.054654Z"
    }
   }
  }
 ],
 "metadata": {
  "kernelspec": {
   "display_name": "Python 3",
   "language": "python",
   "name": "python3"
  },
  "language_info": {
   "codemirror_mode": {
    "name": "ipython",
    "version": 2
   },
   "file_extension": ".py",
   "mimetype": "text/x-python",
   "name": "python",
   "nbconvert_exporter": "python",
   "pygments_lexer": "ipython2",
   "version": "2.7.6"
  }
 },
 "nbformat": 4,
 "nbformat_minor": 0
}
