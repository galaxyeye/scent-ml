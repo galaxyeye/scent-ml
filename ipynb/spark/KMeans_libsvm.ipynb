{
 "cells": [
  {
   "cell_type": "code",
   "execution_count": 146,
   "outputs": [],
   "source": [
    "import os\n",
    "import sys\n",
    "os.environ['PYSPARK_PYTHON'] = sys.executable\n",
    "os.environ['PYSPARK_DRIVER_PYTHON'] = sys.executable\n",
    "\n",
    "from pyspark.sql import SparkSession"
   ],
   "metadata": {
    "collapsed": false,
    "ExecuteTime": {
     "end_time": "2023-11-25T14:00:18.319591900Z",
     "start_time": "2023-11-25T14:00:18.286490600Z"
    }
   }
  },
  {
   "cell_type": "code",
   "execution_count": 147,
   "outputs": [],
   "source": [
    "spark = SparkSession.builder.appName(\"DataLoadTest\").getOrCreate()\n",
    "sc = spark.sparkContext\n",
    "sc.setLogLevel(\"INFO\")"
   ],
   "metadata": {
    "collapsed": false,
    "ExecuteTime": {
     "end_time": "2023-11-25T14:00:18.400612Z",
     "start_time": "2023-11-25T14:00:18.291437100Z"
    }
   }
  },
  {
   "cell_type": "code",
   "execution_count": 148,
   "outputs": [],
   "source": [
    "path = \"../../data/dom/amazon.dataset.libsvm.11.24.50.txt\"\n",
    "# path = \"amazon.dataset.csv.11.25.100.csv\"\n",
    "lines = sc.textFile(path)"
   ],
   "metadata": {
    "collapsed": false,
    "ExecuteTime": {
     "end_time": "2023-11-25T14:00:18.402454600Z",
     "start_time": "2023-11-25T14:00:18.303590900Z"
    }
   }
  },
  {
   "cell_type": "code",
   "execution_count": 149,
   "outputs": [],
   "source": [
    "columnNames = \"1:top-g0 2:top-g1 3:top-g2 4:top-g3 5:left-g0 6:left-g1 7:left-g2 8:left-g3 9:width-g0 10:width-g1 11:width-g2 12:width-g3 13:height-g0 14:height-g1 15:height-g2 16:height-g3 17:char-g0 18:char-g1 19:char-g2 20:char-g3 21:txt_nd-g0 22:txt_nd-g1 23:txt_nd-g2 24:txt_nd-g3 25:img-g0 26:img-g1 27:img-g2 28:img-g3 29:a-g0 30:a-g1 31:a-g2 32:a-g3 33:sibling-g0 34:sibling-g1 35:sibling-g2 36:sibling-g3 37:child-g0 38:child-g1 39:child-g2 40:child-g3 41:dep-g0 42:dep-g1 43:dep-g2 44:dep-g3 45:seq-g0 46:seq-g1 47:seq-g2 48:seq-g3 49:txt_dns-g0 50:txt_dns-g1 51:txt_dns-g2 52:txt_dns-g3 53:pid-g0 54:pid-g1 55:pid-g2 56:pid-g3 57:tag-g0 58:tag-g1 59:tag-g2 60:tag-g3 61:nd_id-g0 62:nd_id-g1 63:nd_id-g2 64:nd_id-g3 65:nd_cs-g0 66:nd_cs-g1 67:nd_cs-g2 68:nd_cs-g3 69:ft_sz-g0 70:ft_sz-g1 71:ft_sz-g2 72:ft_sz-g3 73:color-g0 74:color-g1 75:color-g2 76:color-g3 77:b_bolor-g0 78:b_bolor-g1 79:b_bolor-g2 80:b_bolor-g3 81:rtop-g0 82:rtop-g1 83:rtop-g2 84:rtop-g3 85:rleft-g0 86:rleft-g1 87:rleft-g2 88:rleft-g3 89:rrow-g0 90:rrow-g1 91:rrow-g2 92:rrow-g3 93:rcol-g0 94:rcol-g1 95:rcol-g2 96:rcol-g3 97:dist-g0 98:dist-g1 99:dist-g2 100:dist-g3 101:simg-g0 102:simg-g1 103:simg-g2 104:simg-g3 105:mimg-g0 106:mimg-g1 107:mimg-g2 108:mimg-g3 109:limg-g0 110:limg-g1 111:limg-g2 112:limg-g3 113:aimg-g0 114:aimg-g1 115:aimg-g2 116:aimg-g3 117:saimg-g0 118:saimg-g1 119:saimg-g2 120:saimg-g3 121:maimg-g0 122:maimg-g1 123:maimg-g2 124:maimg-g3 125:laimg-g0 126:laimg-g1 127:laimg-g2 128:laimg-g3 129:char_max-g0 130:char_max-g1 131:char_max-g2 132:char_max-g3 133:char_ave-g0 134:char_ave-g1 135:char_ave-g2 136:char_ave-g3 137:own_char-g0 138:own_char-g1 139:own_char-g2 140:own_char-g3 141:own_txt_nd-g0 142:own_txt_nd-g1 143:own_txt_nd-g2 144:own_txt_nd-g3 145:grant_child-g0 146:grant_child-g1 147:grant_child-g2 148:grant_child-g3 149:descend-g0 150:descend-g1 151:descend-g2 152:descend-g3 153:sep-g0 154:sep-g1 155:sep-g2 156:sep-g3 157:rseq-g0 158:rseq-g1 159:rseq-g2 160:rseq-g3 161:txt_nd_c-g0 162:txt_nd_c-g1 163:txt_nd_c-g2 164:txt_nd_c-g3 165:vcc-g0 166:vcc-g1 167:vcc-g2 168:vcc-g3 169:vcv-g0 170:vcv-g1 171:vcv-g2 172:vcv-g3 173:avcc-g0 174:avcc-g1 175:avcc-g2 176:avcc-g3 177:avcv-g0 178:avcv-g1 179:avcv-g2 180:avcv-g3 181:hcc-g0 182:hcc-g1 183:hcc-g2 184:hcc-g3 185:hcv-g0 186:hcv-g1 187:hcv-g2 188:hcv-g3 189:ahcc-g0 190:ahcc-g1 191:ahcc-g2 192:ahcc-g3 193:ahcv-g0 194:ahcv-g1 195:ahcv-g2 196:ahcv-g3 197:txt_df-g0 198:txt_df-g1 199:txt_df-g2 200:txt_df-g3 201:cap_df-g0 202:cap_df-g1 203:cap_df-g2 204:cap_df-g3 205:tn_max_w-g0 206:tn_max_w-g1 207:tn_max_w-g2 208:tn_max_w-g3 209:tn_ave_w-g0 210:tn_ave_w-g1 211:tn_ave_w-g2 212:tn_ave_w-g3 213:tn_max_h-g0 214:tn_max_h-g1 215:tn_max_h-g2 216:tn_max_h-g3 217:tn_ave_h-g0 218:tn_ave_h-g1 219:tn_ave_h-g2 220:tn_ave_h-g3 221:a_max_w-g0 222:a_max_w-g1 223:a_max_w-g2 224:a_max_w-g3 225:a_ave_w-g0 226:a_ave_w-g1 227:a_ave_w-g2 228:a_ave_w-g3 229:a_max_h-g0 230:a_max_h-g1 231:a_max_h-g2 232:a_max_h-g3 233:a_ave_h-g0 234:a_ave_h-g1 235:a_ave_h-g2 236:a_ave_h-g3 237:img_max_w-g0 238:img_max_w-g1 239:img_max_w-g2 240:img_max_w-g3 241:img_ave_w-g0 242:img_ave_w-g1 243:img_ave_w-g2 244:img_ave_w-g3 245:img_max_h-g0 246:img_max_h-g1 247:img_max_h-g2 248:img_max_h-g3 249:img_ave_h-g0 250:img_ave_h-g1 251:img_ave_h-g2 252:img_ave_h-g3 253:tn_total_w-g0 254:tn_total_w-g1 255:tn_total_w-g2 256:tn_total_w-g3 257:tn_total_h-g0 258:tn_total_h-g1 259:tn_total_h-g2 260:tn_total_h-g3 261:a_total_w-g0 262:a_total_w-g1 263:a_total_w-g2 264:a_total_w-g3 265:a_total_h-g0 266:a_total_h-g1 267:a_total_h-g2 268:a_total_h-g3 269:img_total_w-g0 270:img_total_w-g1 271:img_total_w-g2 272:img_total_w-g3 273:img_total_h-g0 274:img_total_h-g1 275:img_total_h-g2 276:img_total_h-g3\"\n",
    "columnNames = columnNames.split(\" \")\n",
    "columnNames = list(map(lambda item: (item.split(\":\")[1]), columnNames))"
   ],
   "metadata": {
    "collapsed": false,
    "ExecuteTime": {
     "end_time": "2023-11-25T14:00:18.402454600Z",
     "start_time": "2023-11-25T14:00:18.333426900Z"
    }
   }
  },
  {
   "cell_type": "code",
   "execution_count": 150,
   "outputs": [
    {
     "name": "stdout",
     "output_type": "stream",
     "text": [
      "['top-g0', 'top-g1', 'top-g2', 'top-g3', 'left-g0', 'left-g1', 'left-g2', 'left-g3', 'width-g0', 'width-g1', 'width-g2', 'width-g3', 'height-g0', 'height-g1', 'height-g2', 'height-g3', 'char-g0', 'char-g1', 'char-g2', 'char-g3', 'txt_nd-g0', 'txt_nd-g1', 'txt_nd-g2', 'txt_nd-g3', 'img-g0', 'img-g1', 'img-g2', 'img-g3', 'a-g0', 'a-g1', 'a-g2', 'a-g3', 'sibling-g0', 'sibling-g1', 'sibling-g2', 'sibling-g3', 'child-g0', 'child-g1', 'child-g2', 'child-g3', 'dep-g0', 'dep-g1', 'dep-g2', 'dep-g3', 'seq-g0', 'seq-g1', 'seq-g2', 'seq-g3', 'txt_dns-g0', 'txt_dns-g1', 'txt_dns-g2', 'txt_dns-g3', 'pid-g0', 'pid-g1', 'pid-g2', 'pid-g3', 'tag-g0', 'tag-g1', 'tag-g2', 'tag-g3', 'nd_id-g0', 'nd_id-g1', 'nd_id-g2', 'nd_id-g3', 'nd_cs-g0', 'nd_cs-g1', 'nd_cs-g2', 'nd_cs-g3', 'ft_sz-g0', 'ft_sz-g1', 'ft_sz-g2', 'ft_sz-g3', 'color-g0', 'color-g1', 'color-g2', 'color-g3', 'b_bolor-g0', 'b_bolor-g1', 'b_bolor-g2', 'b_bolor-g3', 'rtop-g0', 'rtop-g1', 'rtop-g2', 'rtop-g3', 'rleft-g0', 'rleft-g1', 'rleft-g2', 'rleft-g3', 'rrow-g0', 'rrow-g1', 'rrow-g2', 'rrow-g3', 'rcol-g0', 'rcol-g1', 'rcol-g2', 'rcol-g3', 'dist-g0', 'dist-g1', 'dist-g2', 'dist-g3', 'simg-g0', 'simg-g1', 'simg-g2', 'simg-g3', 'mimg-g0', 'mimg-g1', 'mimg-g2', 'mimg-g3', 'limg-g0', 'limg-g1', 'limg-g2', 'limg-g3', 'aimg-g0', 'aimg-g1', 'aimg-g2', 'aimg-g3', 'saimg-g0', 'saimg-g1', 'saimg-g2', 'saimg-g3', 'maimg-g0', 'maimg-g1', 'maimg-g2', 'maimg-g3', 'laimg-g0', 'laimg-g1', 'laimg-g2', 'laimg-g3', 'char_max-g0', 'char_max-g1', 'char_max-g2', 'char_max-g3', 'char_ave-g0', 'char_ave-g1', 'char_ave-g2', 'char_ave-g3', 'own_char-g0', 'own_char-g1', 'own_char-g2', 'own_char-g3', 'own_txt_nd-g0', 'own_txt_nd-g1', 'own_txt_nd-g2', 'own_txt_nd-g3', 'grant_child-g0', 'grant_child-g1', 'grant_child-g2', 'grant_child-g3', 'descend-g0', 'descend-g1', 'descend-g2', 'descend-g3', 'sep-g0', 'sep-g1', 'sep-g2', 'sep-g3', 'rseq-g0', 'rseq-g1', 'rseq-g2', 'rseq-g3', 'txt_nd_c-g0', 'txt_nd_c-g1', 'txt_nd_c-g2', 'txt_nd_c-g3', 'vcc-g0', 'vcc-g1', 'vcc-g2', 'vcc-g3', 'vcv-g0', 'vcv-g1', 'vcv-g2', 'vcv-g3', 'avcc-g0', 'avcc-g1', 'avcc-g2', 'avcc-g3', 'avcv-g0', 'avcv-g1', 'avcv-g2', 'avcv-g3', 'hcc-g0', 'hcc-g1', 'hcc-g2', 'hcc-g3', 'hcv-g0', 'hcv-g1', 'hcv-g2', 'hcv-g3', 'ahcc-g0', 'ahcc-g1', 'ahcc-g2', 'ahcc-g3', 'ahcv-g0', 'ahcv-g1', 'ahcv-g2', 'ahcv-g3', 'txt_df-g0', 'txt_df-g1', 'txt_df-g2', 'txt_df-g3', 'cap_df-g0', 'cap_df-g1', 'cap_df-g2', 'cap_df-g3', 'tn_max_w-g0', 'tn_max_w-g1', 'tn_max_w-g2', 'tn_max_w-g3', 'tn_ave_w-g0', 'tn_ave_w-g1', 'tn_ave_w-g2', 'tn_ave_w-g3', 'tn_max_h-g0', 'tn_max_h-g1', 'tn_max_h-g2', 'tn_max_h-g3', 'tn_ave_h-g0', 'tn_ave_h-g1', 'tn_ave_h-g2', 'tn_ave_h-g3', 'a_max_w-g0', 'a_max_w-g1', 'a_max_w-g2', 'a_max_w-g3', 'a_ave_w-g0', 'a_ave_w-g1', 'a_ave_w-g2', 'a_ave_w-g3', 'a_max_h-g0', 'a_max_h-g1', 'a_max_h-g2', 'a_max_h-g3', 'a_ave_h-g0', 'a_ave_h-g1', 'a_ave_h-g2', 'a_ave_h-g3', 'img_max_w-g0', 'img_max_w-g1', 'img_max_w-g2', 'img_max_w-g3', 'img_ave_w-g0', 'img_ave_w-g1', 'img_ave_w-g2', 'img_ave_w-g3', 'img_max_h-g0', 'img_max_h-g1', 'img_max_h-g2', 'img_max_h-g3', 'img_ave_h-g0', 'img_ave_h-g1', 'img_ave_h-g2', 'img_ave_h-g3', 'tn_total_w-g0', 'tn_total_w-g1', 'tn_total_w-g2', 'tn_total_w-g3', 'tn_total_h-g0', 'tn_total_h-g1', 'tn_total_h-g2', 'tn_total_h-g3', 'a_total_w-g0', 'a_total_w-g1', 'a_total_w-g2', 'a_total_w-g3', 'a_total_h-g0', 'a_total_h-g1', 'a_total_h-g2', 'a_total_h-g3', 'img_total_w-g0', 'img_total_w-g1', 'img_total_w-g2', 'img_total_w-g3', 'img_total_h-g0', 'img_total_h-g1', 'img_total_h-g2', 'img_total_h-g3']\n"
     ]
    }
   ],
   "source": [
    "print(columnNames)"
   ],
   "metadata": {
    "collapsed": false,
    "ExecuteTime": {
     "end_time": "2023-11-25T14:00:18.403458700Z",
     "start_time": "2023-11-25T14:00:18.338938300Z"
    }
   }
  },
  {
   "cell_type": "code",
   "execution_count": 151,
   "outputs": [],
   "source": [
    "metadata = lines.filter(lambda line: line[0] == \"#\")"
   ],
   "metadata": {
    "collapsed": false,
    "ExecuteTime": {
     "end_time": "2023-11-25T14:00:18.403458700Z",
     "start_time": "2023-11-25T14:00:18.345751100Z"
    }
   }
  },
  {
   "cell_type": "code",
   "execution_count": 152,
   "outputs": [
    {
     "data": {
      "text/plain": "PythonRDD[184] at RDD at PythonRDD.scala:53"
     },
     "execution_count": 152,
     "metadata": {},
     "output_type": "execute_result"
    }
   ],
   "source": [
    "metadata"
   ],
   "metadata": {
    "collapsed": false,
    "ExecuteTime": {
     "end_time": "2023-11-25T14:00:18.403458700Z",
     "start_time": "2023-11-25T14:00:18.349272300Z"
    }
   }
  },
  {
   "cell_type": "code",
   "execution_count": 153,
   "outputs": [],
   "source": [
    "rdd = lines\\\n",
    "    .filter(lambda line: line[0] != \"#\")\\\n",
    "    .map(lambda line: (line.split(\" ^|^ \")))\\\n",
    "    .filter(lambda record: len(record) == 4)"
   ],
   "metadata": {
    "collapsed": false,
    "ExecuteTime": {
     "end_time": "2023-11-25T14:00:18.403458700Z",
     "start_time": "2023-11-25T14:00:18.362668800Z"
    }
   }
  },
  {
   "cell_type": "code",
   "execution_count": 154,
   "outputs": [
    {
     "data": {
      "text/plain": "[['-1',\n  ' 1:999.7 2:1501.1 3:42.8 4:15.3 5:6 11:31 12:3474 33:6 34:6 35:6 64:42.8 65:15.3 70:999.7 71:1501.1 72:42.8 73:15.3 74:6 75:1 78:2 80:30 81:3473 82:253.9683 90:999.7 91:1501.1 95:1 102:6 103:6 104:6 105:1 109:3473 122:42.8 124:15.3 133:42.8 134:15.3 139:997.7 140:1364.3 141:179.6 142:20 143:5 149:30 150:3472 171:5 172:5 173:5 202:179.6 203:20 208:997.7 209:1364.3 210:179.6 211:20 212:5 218:30 219:3472 240:5 241:5 242:5 271:179.6 272:20',\n  '$17.99',\n  'https://www.amazon.com/dp/B0148NNKTC'],\n ['-1',\n  ' 1:999.7 2:1369.3 3:107.7 4:15.3 5:17 11:31 12:3471 33:17 34:17 35:17 64:107.7 65:15.3 70:999.7 71:1369.3 72:107.7 73:15.3 74:17 75:1 77:1 78:2 80:30 81:3470 82:99.6885 90:999.7 91:1369.3 95:1 102:17 103:17 104:17 105:1 109:3470 122:107.7 124:15.3 126:107.7 128:15.3 133:107.7 134:15.3 135:107.7 136:15.3 139:997.7 140:1364.3 141:179.6 142:20 149:30 150:3469 208:997.7 209:1364.3 210:179.6 211:20 218:30 219:3469',\n  '4-Year Protection',\n  'https://www.amazon.com/dp/B0148NNKTC'],\n ['-1',\n  ' 1:999.5 2:636.7 3:667 4:28 5:17 11:11 12:6403 33:17 34:17 35:17 64:667 65:28 70:999.5 71:636.7 72:667 73:28 74:17 75:1 78:3 80:10 81:6402 82:8.5671 90:999.5 91:636.7 95:1 102:17 103:17 104:17 105:1 109:6402 122:667 124:28 133:667 134:28 139:984.5 140:636.7 141:667 142:303 149:10 150:6401 208:984.5 209:636.7 210:667 211:303 218:10 219:6401',\n  'About this item',\n  'https://www.amazon.com/dp/B014I8SIJY'],\n ['-1',\n  ' 1:999.4 2:1506 3:44.5 4:17.3 5:6 11:30 12:3291 33:6 34:6 35:6 64:44.5 65:17.3 70:999.4 71:1506 72:44.5 73:17.3 74:6 75:1 78:2 80:29 81:3290 82:213.9037 90:999.4 91:1506 95:1 102:6 103:6 104:6 105:1 109:3290 122:44.5 124:17.3 133:44.5 134:17.3 139:998.1 140:1364.3 141:186.2 142:20 143:5 149:29 150:3289 171:5 172:5 173:5 202:186.2 203:20 208:998.1 209:1364.3 210:186.2 211:20 212:5 218:29 219:3289 240:5 241:5 242:5 271:186.2 272:20',\n  '$32.99',\n  'https://www.amazon.com/dp/B01CX26WIG'],\n ['-1',\n  ' 1:999.4 2:1369.3 3:110.8 4:17.3 5:17 11:30 12:3288 33:17 34:17 35:17 64:110.8 65:17.3 70:999.4 71:1369.3 72:110.8 73:17.3 74:17 75:1 77:1 78:2 80:29 81:3287 82:85.5615 90:999.4 91:1369.3 95:1 102:17 103:17 104:17 105:1 109:3287 122:110.8 124:17.3 126:110.8 128:17.3 133:110.8 134:17.3 135:110.8 136:17.3 139:998.1 140:1364.3 141:186.2 142:20 149:29 150:3286 208:998.1 209:1364.3 210:186.2 211:20 218:29 219:3286',\n  '4-Year Protection',\n  'https://www.amazon.com/dp/B01CX26WIG']]"
     },
     "execution_count": 154,
     "metadata": {},
     "output_type": "execute_result"
    }
   ],
   "source": [
    "rdd.top(5)"
   ],
   "metadata": {
    "collapsed": false,
    "ExecuteTime": {
     "end_time": "2023-11-25T14:00:20.069397700Z",
     "start_time": "2023-11-25T14:00:18.366940200Z"
    }
   }
  },
  {
   "cell_type": "code",
   "execution_count": 155,
   "outputs": [],
   "source": [
    "kNodes = rdd.filter(lambda r: \"B0073UBRP2\" in r[3]).count()"
   ],
   "metadata": {
    "collapsed": false,
    "ExecuteTime": {
     "end_time": "2023-11-25T14:00:21.897715200Z",
     "start_time": "2023-11-25T14:00:20.068386400Z"
    }
   }
  },
  {
   "cell_type": "code",
   "execution_count": 156,
   "outputs": [
    {
     "data": {
      "text/plain": "113"
     },
     "execution_count": 156,
     "metadata": {},
     "output_type": "execute_result"
    }
   ],
   "source": [
    "kNodes"
   ],
   "metadata": {
    "collapsed": false,
    "ExecuteTime": {
     "end_time": "2023-11-25T14:00:21.911206200Z",
     "start_time": "2023-11-25T14:00:21.901836600Z"
    }
   }
  },
  {
   "cell_type": "code",
   "execution_count": 157,
   "outputs": [
    {
     "name": "stdout",
     "output_type": "stream",
     "text": [
      "+--------------------+-----+\n",
      "|                 url|count|\n",
      "+--------------------+-----+\n",
      "|https://www.amazo...|   75|\n",
      "|https://www.amazo...|  139|\n",
      "|https://www.amazo...|   98|\n",
      "|https://www.amazo...|  140|\n",
      "|https://www.amazo...|  117|\n",
      "|https://www.amazo...|  113|\n",
      "|https://www.amazo...|  111|\n",
      "|https://www.amazo...|   85|\n",
      "|https://www.amazo...|   29|\n",
      "|https://www.amazo...|  135|\n",
      "|https://www.amazo...|   90|\n",
      "|https://www.amazo...|  120|\n",
      "|https://www.amazo...|  155|\n",
      "|https://www.amazo...|  123|\n",
      "|https://www.amazo...|  120|\n",
      "|https://www.amazo...|  132|\n",
      "|https://www.amazo...|   94|\n",
      "|https://www.amazo...|  119|\n",
      "|https://www.amazo...|  118|\n",
      "|https://www.amazo...|  141|\n",
      "+--------------------+-----+\n",
      "only showing top 20 rows\n",
      "\n"
     ]
    }
   ],
   "source": [
    "kNodes2 = rdd.toDF([\"label\", \"numeric_features\", \"text\", \"url\"]).groupBy(\"url\").count()\n",
    "kNodes2.show()"
   ],
   "metadata": {
    "collapsed": false,
    "ExecuteTime": {
     "end_time": "2023-11-25T14:00:25.263576600Z",
     "start_time": "2023-11-25T14:00:21.909701600Z"
    }
   }
  },
  {
   "cell_type": "code",
   "execution_count": 158,
   "outputs": [],
   "source": [
    "from ml.dom.data.DataUtils import DataUtils\n",
    "\n",
    "rdd2 = rdd.map(lambda r: DataUtils.parse_libsvm_line_to_label_vector(276, r[0] + \" \" + r[1]))"
   ],
   "metadata": {
    "collapsed": false,
    "ExecuteTime": {
     "end_time": "2023-11-25T14:00:25.268718300Z",
     "start_time": "2023-11-25T14:00:25.263070Z"
    }
   }
  },
  {
   "cell_type": "code",
   "execution_count": 159,
   "outputs": [
    {
     "data": {
      "text/plain": "PythonRDD[197] at RDD at PythonRDD.scala:53"
     },
     "execution_count": 159,
     "metadata": {},
     "output_type": "execute_result"
    }
   ],
   "source": [
    "rdd2"
   ],
   "metadata": {
    "collapsed": false,
    "ExecuteTime": {
     "end_time": "2023-11-25T14:00:25.326203700Z",
     "start_time": "2023-11-25T14:00:25.268194Z"
    }
   }
  },
  {
   "cell_type": "code",
   "execution_count": 159,
   "outputs": [],
   "source": [],
   "metadata": {
    "collapsed": false,
    "ExecuteTime": {
     "end_time": "2023-11-25T14:00:25.339204300Z",
     "start_time": "2023-11-25T14:00:25.281774200Z"
    }
   }
  },
  {
   "cell_type": "code",
   "execution_count": 160,
   "outputs": [],
   "source": [
    "df2 = rdd2.toDF([\"label\", \"features\"])"
   ],
   "metadata": {
    "collapsed": false,
    "ExecuteTime": {
     "end_time": "2023-11-25T14:00:27.424425300Z",
     "start_time": "2023-11-25T14:00:25.286334800Z"
    }
   }
  },
  {
   "cell_type": "code",
   "execution_count": 161,
   "outputs": [
    {
     "data": {
      "text/plain": "DataFrame[label: double, features: vector]"
     },
     "execution_count": 161,
     "metadata": {},
     "output_type": "execute_result"
    }
   ],
   "source": [
    "df2"
   ],
   "metadata": {
    "collapsed": false,
    "ExecuteTime": {
     "end_time": "2023-11-25T14:00:27.431178100Z",
     "start_time": "2023-11-25T14:00:27.426147300Z"
    }
   }
  },
  {
   "cell_type": "code",
   "execution_count": 162,
   "outputs": [
    {
     "name": "stdout",
     "output_type": "stream",
     "text": [
      "+-----+--------------------+\n",
      "|label|            features|\n",
      "+-----+--------------------+\n",
      "| -1.0|(276,[0,1,2,3,4,1...|\n",
      "| -1.0|(276,[0,1,2,3,4,1...|\n",
      "| -1.0|(276,[0,1,2,3,4,1...|\n",
      "| -1.0|(276,[0,1,2,3,4,1...|\n",
      "| -1.0|(276,[0,1,2,3,4,1...|\n",
      "+-----+--------------------+\n",
      "only showing top 5 rows\n",
      "\n"
     ]
    }
   ],
   "source": [
    "df2.show(5)"
   ],
   "metadata": {
    "collapsed": false,
    "ExecuteTime": {
     "end_time": "2023-11-25T14:00:28.997337600Z",
     "start_time": "2023-11-25T14:00:27.432687500Z"
    }
   }
  },
  {
   "cell_type": "code",
   "execution_count": 163,
   "outputs": [
    {
     "name": "stdout",
     "output_type": "stream",
     "text": [
      "root\n",
      " |-- label: double (nullable = true)\n",
      " |-- features: vector (nullable = true)\n",
      "\n"
     ]
    }
   ],
   "source": [
    "df2.printSchema()"
   ],
   "metadata": {
    "collapsed": false,
    "ExecuteTime": {
     "end_time": "2023-11-25T14:00:29.013999600Z",
     "start_time": "2023-11-25T14:00:28.974944700Z"
    }
   }
  },
  {
   "cell_type": "code",
   "execution_count": 164,
   "outputs": [
    {
     "data": {
      "text/plain": "[Row(label=-1.0, features=SparseVector(276, {0: 231.0, 1: 1348.3, 2: 135.8, 3: 17.3, 4: 22.0, 10: 22.0, 11: 1177.0, 32: 22.0, 33: 22.0, 34: 22.0, 63: 135.8, 64: 17.3, 69: 231.0, 70: 1348.3, 71: 135.8, 72: 17.3, 73: 22.0, 74: 1.0, 77: 1.0, 79: 21.0, 80: 1176.0, 81: 69.7168, 89: 231.0, 90: 1348.3, 94: 1.0, 101: 22.0, 102: 22.0, 103: 22.0, 104: 1.0, 108: 1176.0, 121: 135.8, 123: 17.3, 132: 135.8, 133: 17.3, 138: 229.7, 139: 1348.3, 140: 206.7, 141: 20.0, 148: 21.0, 149: 1175.0, 207: 229.7, 208: 1348.3, 209: 206.7, 210: 20.0, 217: 21.0, 218: 1175.0}))]"
     },
     "execution_count": 164,
     "metadata": {},
     "output_type": "execute_result"
    }
   ],
   "source": [
    "df2.take(1)"
   ],
   "metadata": {
    "collapsed": false,
    "ExecuteTime": {
     "end_time": "2023-11-25T14:00:30.514858200Z",
     "start_time": "2023-11-25T14:00:28.980508200Z"
    }
   }
  },
  {
   "cell_type": "code",
   "execution_count": 165,
   "outputs": [],
   "source": [
    "#converts DataFrame to rdd\n",
    "rdd3 = df2.rdd\n",
    "print(rdd3.collect())"
   ],
   "metadata": {
    "collapsed": false,
    "ExecuteTime": {
     "end_time": "2023-11-25T14:00:30.586383300Z",
     "start_time": "2023-11-25T14:00:30.520855800Z"
    }
   }
  },
  {
   "cell_type": "code",
   "execution_count": 165,
   "outputs": [],
   "source": [
    "# apply map() transformation)\n",
    "rdd4 = df2.rdd.map(lambda x: [x[0], x[1]*20/100])"
   ],
   "metadata": {
    "collapsed": false,
    "ExecuteTime": {
     "end_time": "2023-11-25T14:00:30.603736500Z",
     "start_time": "2023-11-25T14:00:30.570372800Z"
    }
   }
  },
  {
   "cell_type": "code",
   "execution_count": 166,
   "outputs": [
    {
     "ename": "IllegalArgumentException",
     "evalue": "requirement failed: Column features must be of type class org.apache.spark.ml.linalg.VectorUDT:struct<type:tinyint,size:int,indices:array<int>,values:array<double>> but was actually class org.apache.spark.mllib.linalg.VectorUDT:struct<type:tinyint,size:int,indices:array<int>,values:array<double>>.",
     "output_type": "error",
     "traceback": [
      "\u001B[1;31m---------------------------------------------------------------------------\u001B[0m",
      "\u001B[1;31mIllegalArgumentException\u001B[0m                  Traceback (most recent call last)",
      "Cell \u001B[1;32mIn[166], line 2\u001B[0m\n\u001B[0;32m      1\u001B[0m \u001B[38;5;66;03m# Compute summary statistics by fitting the StandardScaler\u001B[39;00m\n\u001B[1;32m----> 2\u001B[0m scalerModel \u001B[38;5;241m=\u001B[39m \u001B[43mscaler\u001B[49m\u001B[38;5;241;43m.\u001B[39;49m\u001B[43mfit\u001B[49m\u001B[43m(\u001B[49m\u001B[43mdf2\u001B[49m\u001B[43m)\u001B[49m\n",
      "File \u001B[1;32mD:\\Users\\pereg\\AppData\\Local\\Programs\\Python\\Python311\\Lib\\site-packages\\pyspark\\ml\\base.py:205\u001B[0m, in \u001B[0;36mEstimator.fit\u001B[1;34m(self, dataset, params)\u001B[0m\n\u001B[0;32m    203\u001B[0m         \u001B[38;5;28;01mreturn\u001B[39;00m \u001B[38;5;28mself\u001B[39m\u001B[38;5;241m.\u001B[39mcopy(params)\u001B[38;5;241m.\u001B[39m_fit(dataset)\n\u001B[0;32m    204\u001B[0m     \u001B[38;5;28;01melse\u001B[39;00m:\n\u001B[1;32m--> 205\u001B[0m         \u001B[38;5;28;01mreturn\u001B[39;00m \u001B[38;5;28;43mself\u001B[39;49m\u001B[38;5;241;43m.\u001B[39;49m\u001B[43m_fit\u001B[49m\u001B[43m(\u001B[49m\u001B[43mdataset\u001B[49m\u001B[43m)\u001B[49m\n\u001B[0;32m    206\u001B[0m \u001B[38;5;28;01melse\u001B[39;00m:\n\u001B[0;32m    207\u001B[0m     \u001B[38;5;28;01mraise\u001B[39;00m \u001B[38;5;167;01mTypeError\u001B[39;00m(\n\u001B[0;32m    208\u001B[0m         \u001B[38;5;124m\"\u001B[39m\u001B[38;5;124mParams must be either a param map or a list/tuple of param maps, \u001B[39m\u001B[38;5;124m\"\u001B[39m\n\u001B[0;32m    209\u001B[0m         \u001B[38;5;124m\"\u001B[39m\u001B[38;5;124mbut got \u001B[39m\u001B[38;5;132;01m%s\u001B[39;00m\u001B[38;5;124m.\u001B[39m\u001B[38;5;124m\"\u001B[39m \u001B[38;5;241m%\u001B[39m \u001B[38;5;28mtype\u001B[39m(params)\n\u001B[0;32m    210\u001B[0m     )\n",
      "File \u001B[1;32mD:\\Users\\pereg\\AppData\\Local\\Programs\\Python\\Python311\\Lib\\site-packages\\pyspark\\ml\\wrapper.py:381\u001B[0m, in \u001B[0;36mJavaEstimator._fit\u001B[1;34m(self, dataset)\u001B[0m\n\u001B[0;32m    380\u001B[0m \u001B[38;5;28;01mdef\u001B[39;00m \u001B[38;5;21m_fit\u001B[39m(\u001B[38;5;28mself\u001B[39m, dataset: DataFrame) \u001B[38;5;241m-\u001B[39m\u001B[38;5;241m>\u001B[39m JM:\n\u001B[1;32m--> 381\u001B[0m     java_model \u001B[38;5;241m=\u001B[39m \u001B[38;5;28;43mself\u001B[39;49m\u001B[38;5;241;43m.\u001B[39;49m\u001B[43m_fit_java\u001B[49m\u001B[43m(\u001B[49m\u001B[43mdataset\u001B[49m\u001B[43m)\u001B[49m\n\u001B[0;32m    382\u001B[0m     model \u001B[38;5;241m=\u001B[39m \u001B[38;5;28mself\u001B[39m\u001B[38;5;241m.\u001B[39m_create_model(java_model)\n\u001B[0;32m    383\u001B[0m     \u001B[38;5;28;01mreturn\u001B[39;00m \u001B[38;5;28mself\u001B[39m\u001B[38;5;241m.\u001B[39m_copyValues(model)\n",
      "File \u001B[1;32mD:\\Users\\pereg\\AppData\\Local\\Programs\\Python\\Python311\\Lib\\site-packages\\pyspark\\ml\\wrapper.py:378\u001B[0m, in \u001B[0;36mJavaEstimator._fit_java\u001B[1;34m(self, dataset)\u001B[0m\n\u001B[0;32m    375\u001B[0m \u001B[38;5;28;01massert\u001B[39;00m \u001B[38;5;28mself\u001B[39m\u001B[38;5;241m.\u001B[39m_java_obj \u001B[38;5;129;01mis\u001B[39;00m \u001B[38;5;129;01mnot\u001B[39;00m \u001B[38;5;28;01mNone\u001B[39;00m\n\u001B[0;32m    377\u001B[0m \u001B[38;5;28mself\u001B[39m\u001B[38;5;241m.\u001B[39m_transfer_params_to_java()\n\u001B[1;32m--> 378\u001B[0m \u001B[38;5;28;01mreturn\u001B[39;00m \u001B[38;5;28;43mself\u001B[39;49m\u001B[38;5;241;43m.\u001B[39;49m\u001B[43m_java_obj\u001B[49m\u001B[38;5;241;43m.\u001B[39;49m\u001B[43mfit\u001B[49m\u001B[43m(\u001B[49m\u001B[43mdataset\u001B[49m\u001B[38;5;241;43m.\u001B[39;49m\u001B[43m_jdf\u001B[49m\u001B[43m)\u001B[49m\n",
      "File \u001B[1;32mD:\\Users\\pereg\\AppData\\Local\\Programs\\Python\\Python311\\Lib\\site-packages\\py4j\\java_gateway.py:1322\u001B[0m, in \u001B[0;36mJavaMember.__call__\u001B[1;34m(self, *args)\u001B[0m\n\u001B[0;32m   1316\u001B[0m command \u001B[38;5;241m=\u001B[39m proto\u001B[38;5;241m.\u001B[39mCALL_COMMAND_NAME \u001B[38;5;241m+\u001B[39m\\\n\u001B[0;32m   1317\u001B[0m     \u001B[38;5;28mself\u001B[39m\u001B[38;5;241m.\u001B[39mcommand_header \u001B[38;5;241m+\u001B[39m\\\n\u001B[0;32m   1318\u001B[0m     args_command \u001B[38;5;241m+\u001B[39m\\\n\u001B[0;32m   1319\u001B[0m     proto\u001B[38;5;241m.\u001B[39mEND_COMMAND_PART\n\u001B[0;32m   1321\u001B[0m answer \u001B[38;5;241m=\u001B[39m \u001B[38;5;28mself\u001B[39m\u001B[38;5;241m.\u001B[39mgateway_client\u001B[38;5;241m.\u001B[39msend_command(command)\n\u001B[1;32m-> 1322\u001B[0m return_value \u001B[38;5;241m=\u001B[39m \u001B[43mget_return_value\u001B[49m\u001B[43m(\u001B[49m\n\u001B[0;32m   1323\u001B[0m \u001B[43m    \u001B[49m\u001B[43manswer\u001B[49m\u001B[43m,\u001B[49m\u001B[43m \u001B[49m\u001B[38;5;28;43mself\u001B[39;49m\u001B[38;5;241;43m.\u001B[39;49m\u001B[43mgateway_client\u001B[49m\u001B[43m,\u001B[49m\u001B[43m \u001B[49m\u001B[38;5;28;43mself\u001B[39;49m\u001B[38;5;241;43m.\u001B[39;49m\u001B[43mtarget_id\u001B[49m\u001B[43m,\u001B[49m\u001B[43m \u001B[49m\u001B[38;5;28;43mself\u001B[39;49m\u001B[38;5;241;43m.\u001B[39;49m\u001B[43mname\u001B[49m\u001B[43m)\u001B[49m\n\u001B[0;32m   1325\u001B[0m \u001B[38;5;28;01mfor\u001B[39;00m temp_arg \u001B[38;5;129;01min\u001B[39;00m temp_args:\n\u001B[0;32m   1326\u001B[0m     \u001B[38;5;28;01mif\u001B[39;00m \u001B[38;5;28mhasattr\u001B[39m(temp_arg, \u001B[38;5;124m\"\u001B[39m\u001B[38;5;124m_detach\u001B[39m\u001B[38;5;124m\"\u001B[39m):\n",
      "File \u001B[1;32mD:\\Users\\pereg\\AppData\\Local\\Programs\\Python\\Python311\\Lib\\site-packages\\pyspark\\errors\\exceptions\\captured.py:185\u001B[0m, in \u001B[0;36mcapture_sql_exception.<locals>.deco\u001B[1;34m(*a, **kw)\u001B[0m\n\u001B[0;32m    181\u001B[0m converted \u001B[38;5;241m=\u001B[39m convert_exception(e\u001B[38;5;241m.\u001B[39mjava_exception)\n\u001B[0;32m    182\u001B[0m \u001B[38;5;28;01mif\u001B[39;00m \u001B[38;5;129;01mnot\u001B[39;00m \u001B[38;5;28misinstance\u001B[39m(converted, UnknownException):\n\u001B[0;32m    183\u001B[0m     \u001B[38;5;66;03m# Hide where the exception came from that shows a non-Pythonic\u001B[39;00m\n\u001B[0;32m    184\u001B[0m     \u001B[38;5;66;03m# JVM exception message.\u001B[39;00m\n\u001B[1;32m--> 185\u001B[0m     \u001B[38;5;28;01mraise\u001B[39;00m converted \u001B[38;5;28;01mfrom\u001B[39;00m \u001B[38;5;28;01mNone\u001B[39;00m\n\u001B[0;32m    186\u001B[0m \u001B[38;5;28;01melse\u001B[39;00m:\n\u001B[0;32m    187\u001B[0m     \u001B[38;5;28;01mraise\u001B[39;00m\n",
      "\u001B[1;31mIllegalArgumentException\u001B[0m: requirement failed: Column features must be of type class org.apache.spark.ml.linalg.VectorUDT:struct<type:tinyint,size:int,indices:array<int>,values:array<double>> but was actually class org.apache.spark.mllib.linalg.VectorUDT:struct<type:tinyint,size:int,indices:array<int>,values:array<double>>."
     ]
    }
   ],
   "source": [
    "df4=rdd4.toDF([\"label\", \"features\"])\n",
    "df4.show()"
   ],
   "metadata": {
    "collapsed": false,
    "ExecuteTime": {
     "end_time": "2023-11-25T14:00:30.734546200Z",
     "start_time": "2023-11-25T14:00:30.586383300Z"
    }
   }
  },
  {
   "cell_type": "code",
   "execution_count": null,
   "outputs": [],
   "source": [
    "from pyspark.mllib.feature import StandardScaler\n",
    "\n",
    "scaler = StandardScaler(withStd=True, withMean=False)"
   ],
   "metadata": {
    "collapsed": false
   }
  },
  {
   "cell_type": "code",
   "execution_count": null,
   "outputs": [],
   "source": [],
   "metadata": {
    "collapsed": false
   }
  },
  {
   "cell_type": "code",
   "execution_count": null,
   "outputs": [],
   "source": [
    "# Compute summary statistics by fitting the StandardScaler\n",
    "scalerModel = scaler.fit(df4)"
   ],
   "metadata": {
    "collapsed": false
   }
  },
  {
   "cell_type": "code",
   "execution_count": null,
   "outputs": [],
   "source": [
    "# Normalize each feature to have unit standard deviation.\n",
    "final_data = scalerModel.transform(df4)\n",
    "\n",
    "final_data.show(5)"
   ],
   "metadata": {
    "collapsed": false
   }
  },
  {
   "cell_type": "code",
   "execution_count": null,
   "outputs": [],
   "source": [
    "# clusters = KMeans.train(features, kNodes, maxIterations=10, initializationMode=\"random\")\n",
    "#Importing the model\n",
    "from pyspark.ml.clustering import KMeans\n",
    "from pyspark.ml.evaluation import ClusteringEvaluator\n",
    "\n",
    "silhouette_score=[]\n",
    "\n",
    "evaluator = ClusteringEvaluator(predictionCol='prediction',\n",
    "                                featuresCol='scaledFeatures',\n",
    "                                metricName='silhouette',\n",
    "                                distanceMeasure='squaredEuclidean')\n",
    "\n",
    "for i in range(2,10):\n",
    "    kmeans=KMeans(featuresCol='scaledFeatures', k=kNodes)\n",
    "    model=kmeans.fit(final_data)\n",
    "    predictions=model.transform(final_data)\n",
    "    score=evaluator.evaluate(predictions)\n",
    "    silhouette_score.append(score)\n",
    "    print('Silhouette Score for k =',i,'is',score)"
   ],
   "metadata": {
    "collapsed": false
   }
  },
  {
   "cell_type": "code",
   "execution_count": null,
   "outputs": [],
   "source": [
    "#Visualizing the silhouette scores in a plot\n",
    "import matplotlib.pyplot as plt\n",
    "\n",
    "plt.plot(range(2,10),silhouette_score)\n",
    "plt.xlabel('k')\n",
    "plt.ylabel('silhouette score')\n",
    "plt.title('Silhouette Score')\n",
    "plt.show()"
   ],
   "metadata": {
    "collapsed": false
   }
  },
  {
   "cell_type": "code",
   "execution_count": null,
   "outputs": [],
   "source": [
    "spark.stop()"
   ],
   "metadata": {
    "collapsed": false
   }
  }
 ],
 "metadata": {
  "kernelspec": {
   "display_name": "Python 3",
   "language": "python",
   "name": "python3"
  },
  "language_info": {
   "codemirror_mode": {
    "name": "ipython",
    "version": 2
   },
   "file_extension": ".py",
   "mimetype": "text/x-python",
   "name": "python",
   "nbconvert_exporter": "python",
   "pygments_lexer": "ipython2",
   "version": "2.7.6"
  }
 },
 "nbformat": 4,
 "nbformat_minor": 0
}
